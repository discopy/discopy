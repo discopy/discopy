{
 "cells": [
  {
   "cell_type": "markdown",
   "id": "25481850",
   "metadata": {},
   "source": [
    "# Category theory for quantum                       natural language processing\n",
    "\n",
    "Alexis TOUMI\n",
    "\n",
    "June 24th 2022"
   ]
  },
  {
   "cell_type": "markdown",
   "id": "e3b2d8c3",
   "metadata": {},
   "source": [
    "**Outline:**\n",
    "\n",
    "1. Background: DisCoCat\n",
    "2. QNLP: theory and experiments\n",
    "3. DisCoPy for the quantum computer scientist\n"
   ]
  },
  {
   "cell_type": "markdown",
   "id": "49e08a47",
   "metadata": {},
   "source": [
    "## 1. Background: DisCoCat"
   ]
  },
  {
   "cell_type": "markdown",
   "id": "9e771d8e",
   "metadata": {},
   "source": [
    "DisCoCat stands for:\n",
    "\n",
    "- categorical\n",
    "- compositional\n",
    "- distributional\n",
    "\n",
    "models of meaning.\n",
    "\n",
    "In short we use **category theory** to build natural language processing (NLP) models that combine **compositionality** and the **distributional hypothesis**."
   ]
  },
  {
   "cell_type": "markdown",
   "id": "44ae5415",
   "metadata": {},
   "source": [
    "### 1.A. Compositionality\n",
    "\n",
    "> *The meaning of a sentence is given by the meaning of the words and the rules used to combine them.*\n",
    "\n",
    "~Frege~ Boole, *An investigation of the laws of thought* (1854)\n",
    "\n",
    "\n",
    "> *There is in my opinion no important theoretical difference between natural languages and the artificial languages of logicians*.\n",
    "\n",
    "Montague, *Universal Grammar* (1970)\n",
    "\n",
    "![Montague](https://danielmichaelcicala.github.io/act2019/assets/dialogue-challenge/3-thesis-loves-a-mortal.png)"
   ]
  },
  {
   "cell_type": "markdown",
   "id": "61a0b694",
   "metadata": {},
   "source": [
    "The recipe for **good-old fashioned AI** (GOFAI) and **expert systems**:\n",
    "\n",
    "1. formalise natural language as a (probabilistic) **grammar**,\n",
    "2. translate questions into queries for a ~database~ **knowledge base**,\n",
    "3. win Jeopardy!\n",
    "\n",
    "| IBM-Georgetown (1954) | Watson wins Jeopardy! (2011) |\n",
    "| -----|------|\n",
    "| ![IBM-Georgetown experiment](https://content.teldap.tw/index/files/image/%E7%A7%91%E6%8A%80%E5%A7%8B%E6%96%BC%E4%BA%BA%E6%80%A7%EF%BC%8DThe%20Georgetown-IBM%20experiment%20in%20January%201954%204.jpg) | ![IBM Watson wins Jeopardy!](https://cdn.unitycms.io/images/BEeyVRhzKeHARy16fyUWab.jpg) |"
   ]
  },
  {
   "cell_type": "markdown",
   "id": "0e5e8cfc",
   "metadata": {},
   "source": [
    "Some issues with this **symbolic approach**:\n",
    "\n",
    "- grammars are brittle and suffer from ambiguity,\n",
    "- knowledge bases are expensive and unreliable,\n",
    "- even simple queries quickly become intractable."
   ]
  },
  {
   "cell_type": "markdown",
   "id": "7714f53a",
   "metadata": {},
   "source": [
    "### 1.B. Distributionality\n",
    "\n",
    "> *You shall know a word by the company it keeps.*\n",
    "\n",
    "Firth, *A synopsis of linguistic theory, 1930-1955*\n",
    "\n",
    "A simple recipe:\n",
    "\n",
    "1. collect $M$ documents with $N$ words to get a $M \\times N$ matrix,\n",
    "2. scale it (e.g. tf-idf), factorise it (e.g. SVD) to get a vector $w \\in \\mathbb{R}^d$ for each word,\n",
    "3. inner product $\\langle w'\\vert w \\rangle$ computes word similarity!\n",
    "\n",
    "Some issues with these naïve **vector space models**:\n",
    "\n",
    "- no compositionality: a sentence is a **bag of words**,\n",
    "- no contextuality: the same vector for different meanings,\n",
    "- sparsity: we can try *n-grams* (i.e. $n$-tuples) but almost all zero.\n",
    "\n",
    "These issues were overcome by **deep neural networks** and **large language models**."
   ]
  },
  {
   "attachments": {},
   "cell_type": "markdown",
   "id": "04f7ffd6",
   "metadata": {},
   "source": [
    "| Attention mechanism | Clickbait mechanism |\n",
    "| ------------------- | ------------------- |\n",
    "| ![Transformer architecture](https://imgs.search.brave.com/9siRrM0u4OXw2mkcKMVLcVLgTQGGysSRy9-nd00Wtww/rs:fit:626:575:1/g:ce/aHR0cHM6Ly9taXJv/Lm1lZGl1bS5jb20v/bWF4LzEyNTIvMSpK/dUdaYVpjUnRtcnRD/RVBZOHFmc1V3LnBu/Zw) | ![GPT-3 The Guardian](https://data.junkee.com/wp-content/uploads/2020/09/irobot_featured1.jpg) |"
   ]
  },
  {
   "cell_type": "markdown",
   "id": "f7e3d0b8",
   "metadata": {},
   "source": [
    "Indeed, **why** should we be scared?\n",
    "\n",
    "Because we don't understand **how** these models work: LLM lack **explainability**, they are **black boxes** with billions of parameters.\n",
    "\n",
    "No justice, no peace.\n",
    "\n",
    "No explainability, no **fairness**."
   ]
  },
  {
   "cell_type": "markdown",
   "id": "6b07406d",
   "metadata": {},
   "source": [
    "### 1.C. DisCoCat models\n",
    "\n",
    "![She who hates Bob](https://www.capestart.com/wp-content/uploads/2020/10/1_t-lNNKh6w84RZnMsG_DePw.png)\n",
    "\n",
    "[A Compositional Distributional Model of Meaning](http://www.cs.ox.ac.uk/people/stephen.clark/papers/qai08.pdf)\n",
    "\n",
    "Clark, Coecke & Sadrzadeh (2008)\n",
    "\n",
    "| Linguistics | Quantum | Algebra |\n",
    "| --- | ------- | -------------- |\n",
    "| grammatical type | system | vector space |\n",
    "| meaning | state | vector |\n",
    "| parsing | process | linear map |\n",
    "| grammar | entanglement | tensor product |\n",
    "\n",
    "> *Every sufficiently good analogy is yearning to become a functor.*\n",
    "\n",
    "Baez, _Quantum Quandaries: A Category-Theoretic Perspective_ (2006)\n",
    "\n",
    "**Definition:** A DisCoCat model is a **monoidal functor** $F : \\mathbf{G} \\to \\mathbf{Vect}$\n",
    "* from a category $G$ of grammatical types and parsing,\n",
    "* to the category $\\mathbf{Vect}$ of vector spaces and linear maps.\n",
    "\n",
    "These models have received some experimental validation, but they can be **exponentially hard to evaluate** (because of the #P-hardness of _tensor contraction_).\n",
    "\n",
    "Bob's joke 10 years ago: **let's just use a quantum computer!**"
   ]
  },
  {
   "cell_type": "markdown",
   "id": "3c5cbe73",
   "metadata": {},
   "source": [
    "## 2. QNLP: theory and experiments\n",
    "\n",
    "![QNLP](https://miro.medium.com/max/1400/1*Knq7_KmyRSoY8CHOXsvWUA.png)\n",
    "\n",
    "**Definition:** A QNLP model is a monoidal functor $F : \\mathbf{G} \\to \\mathbf{Circ}$\n",
    "* from a category $G$ of grammatical types and parsing,\n",
    "* to the category $\\mathbf{Circ}$ of qubits and quantum circuits.\n",
    "\n",
    "In practice, we use a **variational approach** where:\n",
    "* each word is sent to a parameterised **ansatz**,\n",
    "* parsing gets mapped to circuit architecture,\n",
    "* classical optimisation (e.g. SPSA) finds optimal parameters.\n",
    "\n",
    "![variational QNLP](https://miro.medium.com/max/1400/1*4QSIChBN5fSFMezlYmn5lw.jpeg)"
   ]
  },
  {
   "cell_type": "markdown",
   "id": "e429e900",
   "metadata": {},
   "source": [
    "In theory, if the ansätze are exponentially hard to simulate by a classical computer, we could get **quantum advantage for NLP**.\n",
    "We can also use Grover algorithm to get a (more realistic) **quadratic speedup**.\n",
    "\n",
    "Zeng & Coecke, [Quantum Algorithms for Compositional Natural Language Processing](http://arxiv.org/abs/1608.01406) (2016)\n",
    "\n",
    "Our first experiments focused on ~classification~ **question answering**. This is being extended to:\n",
    "* language generation,\n",
    "* automatic translation,\n",
    "* music generation,\n",
    "* drawing generation (coming soon!)"
   ]
  },
  {
   "cell_type": "markdown",
   "id": "af1cd5f3",
   "metadata": {},
   "source": [
    "### 3. DisCoPy for the quantum computer scientist"
   ]
  },
  {
   "cell_type": "markdown",
   "id": "c8d6cf2a",
   "metadata": {},
   "source": [
    "**Definition:** A monoidal signature is a tuple $\\Sigma = (\\Sigma_0, \\Sigma_1, \\text{dom}, \\text{cod})$ where:\n",
    "* $\\Sigma_0$ is a set of **wires**,\n",
    "* $\\Sigma_1$ is a set of **boxes**,\n",
    "* $\\text{dom}, \\text{cod} : \\Sigma_1 \\to \\Sigma_0^\\star$ are the **input** and **output** wires for each box.\n",
    "\n",
    "**Definition:** A layer is a triple $L(\\Sigma) = \\Sigma_0^\\star \\times \\Sigma_1 \\times \\Sigma_0^\\star$."
   ]
  },
  {
   "cell_type": "code",
   "execution_count": 1,
   "id": "16d83841",
   "metadata": {},
   "outputs": [
    {
     "data": {
      "image/png": "[encoded data removed]",
      "text/plain": [
       "<Figure size 144x144 with 1 Axes>"
      ]
     },
     "metadata": {
      "needs_background": "light"
     },
     "output_type": "display_data"
    }
   ],
   "source": [
    "from discopy import Ty, Box, Id\n",
    "\n",
    "x, y, z, w = map(Ty, \"xyzw\")\n",
    "f = Box(name='f', dom=y, cod=w)\n",
    "layer = Id(x) @ f @ Id(z)\n",
    "\n",
    "layer.draw(aspect='equal', figsize=(2, 2))"
   ]
  },
  {
   "cell_type": "markdown",
   "id": "f64c575b",
   "metadata": {},
   "source": [
    "**Definition:** A diagram $d$ is given by:\n",
    "* a domain $\\text{dom}(d) \\in \\Sigma_0^\\star$,\n",
    "* a list of **composable** layers $\\text{layers}(d) = d_1, \\dots, d_n \\in \\Sigma_1^\\star$ such that\n",
    "    - $\\text{dom}(d) = \\text{dom}(d_0)$ and\n",
    "    - $\\text{dom}(d_{i + 1}) = \\text{cod}(d_i)$ for $i \\leq n$.\n",
    "    \n",
    "We can compose diagrams:\n",
    "* in sequence with `>>`,\n",
    "* and in parallel with `@`."
   ]
  },
  {
   "cell_type": "code",
   "execution_count": 2,
   "id": "49a35ff9",
   "metadata": {},
   "outputs": [
    {
     "data": {
      "image/png": "[encoded data removed]",
      "text/plain": [
       "<Figure size 216x216 with 1 Axes>"
      ]
     },
     "metadata": {
      "needs_background": "light"
     },
     "output_type": "display_data"
    }
   ],
   "source": [
    "g, h = Box('g', x, x @ y @ z), Box('h', w @ z, x)\n",
    "e = Box('e', x, Ty())\n",
    "\n",
    "diagram = g >> layer >> e @ h\n",
    "\n",
    "diagram.draw(figsize=(3, 3))"
   ]
  },
  {
   "cell_type": "markdown",
   "id": "3a56ffc0",
   "metadata": {},
   "source": [
    "Sometimes two diagrams represent the same process.\n",
    "\n",
    "DisCoPy performs **diagram rewriting** which can be used to:\n",
    "* check equality of two diagrams,\n",
    "* find the optimal diagram for a given process."
   ]
  },
  {
   "cell_type": "code",
   "execution_count": 3,
   "id": "4baee266",
   "metadata": {},
   "outputs": [
    {
     "data": {
      "image/png": "[encoded data removed]",
      "text/plain": [
       "<Figure size 360x216 with 1 Axes>"
      ]
     },
     "metadata": {
      "needs_background": "light"
     },
     "output_type": "display_data"
    }
   ],
   "source": [
    "from discopy import drawing\n",
    "\n",
    "drawing.equation(\n",
    "    diagram, diagram.normal_form(),                                figsize=(5, 3))"
   ]
  },
  {
   "cell_type": "markdown",
   "id": "97a2aa3e",
   "metadata": {},
   "source": [
    "We can add special kinds of boxes for:\n",
    "* swaps,\n",
    "* cups and caps,\n",
    "* spiders,\n",
    "* ...\n",
    "\n",
    "which all come with new kinds of rewrites.\n",
    "\n",
    "We can now draw any parsing as a diagram!"
   ]
  },
  {
   "cell_type": "code",
   "execution_count": 9,
   "id": "5d147948",
   "metadata": {},
   "outputs": [
    {
     "data": {
      "image/png": "[encoded data removed]",
      "text/plain": [
       "<Figure size 432x288 with 1 Axes>"
      ]
     },
     "metadata": {
      "needs_background": "light"
     },
     "output_type": "display_data"
    }
   ],
   "source": [
    "from discopy import pregroup, Word, Cup, Cap\n",
    "\n",
    "s, n = Ty('s'), Ty('n')\n",
    "Alice, Bob = Word('Alice', n), Word('Bob', n)\n",
    "loves = Word('loves', n.r @ s @ n.l)\n",
    "\n",
    "sentence = Alice @ loves @ Bob >> Cup(n, n.r) @ Id(s) @ Cup(n.l, n)\n",
    "pregroup.draw(sentence)"
   ]
  },
  {
   "cell_type": "code",
   "execution_count": 10,
   "id": "32e851a5",
   "metadata": {},
   "outputs": [],
   "source": [
    "from discopy import TensorFunctor\n",
    "\n",
    "F = TensorFunctor(\n",
    "    ob={s: 1, n: 2},\n",
    "    ar={Alice: [1, 0],\n",
    "        loves: [[0, 1],\n",
    "                [1, 0]],\n",
    "        Bob:   [0, 1]})\n",
    "\n",
    "assert F(sentence)"
   ]
  },
  {
   "cell_type": "markdown",
   "id": "cdba4008",
   "metadata": {},
   "source": [
    "We can represent any kind of quantum process in terms of diagrams."
   ]
  },
  {
   "cell_type": "code",
   "execution_count": 15,
   "id": "c80ec373",
   "metadata": {},
   "outputs": [
    {
     "data": {
      "image/png": "[encoded data removed]",
      "text/plain": [
       "<Figure size 144x216 with 1 Axes>"
      ]
     },
     "metadata": {
      "needs_background": "light"
     },
     "output_type": "display_data"
    }
   ],
   "source": [
    "from discopy.quantum import CX, H, Rx, Ket, sqrt\n",
    "\n",
    "circuit = Ket(0, 0) >> H @ Rx(0.5) >> CX\n",
    "circuit.draw(figsize=(2, 3))"
   ]
  },
  {
   "cell_type": "code",
   "execution_count": 16,
   "id": "bc2bbbb4",
   "metadata": {},
   "outputs": [
    {
     "data": {
      "image/png": "[encoded data removed]",
      "text/plain": [
       "<Figure size 432x144 with 1 Axes>"
      ]
     },
     "metadata": {},
     "output_type": "display_data"
    }
   ],
   "source": [
    "from discopy.quantum.zx import circuit2zx, X, scalar\n",
    "\n",
    "drawing.equation(\n",
    "    circuit, circuit2zx(circuit), scalar(0.5) @ X(0, 2, .5), figsize=(6, 2), symbol='$\\mapsto$')"
   ]
  },
  {
   "cell_type": "markdown",
   "id": "5b845466",
   "metadata": {},
   "source": [
    "Now we can define functors from grammar to circuit, i.e. QNLP models!"
   ]
  },
  {
   "cell_type": "code",
   "execution_count": 17,
   "id": "df4d9561",
   "metadata": {},
   "outputs": [
    {
     "name": "stdout",
     "output_type": "stream",
     "text": [
      "Circuit for 'Alice loves Bob':\n"
     ]
    },
    {
     "data": {
      "image/png": "[encoded data removed]",
      "text/plain": [
       "<Figure size 576x288 with 1 Axes>"
      ]
     },
     "metadata": {
      "needs_background": "light"
     },
     "output_type": "display_data"
    }
   ],
   "source": [
    "from discopy import CircuitFunctor, qubit\n",
    "\n",
    "def verb_ansatz(phase):\n",
    "    return Ket(0, 0) >> H @ sqrt(2) @ Rx(phase) >> CX\n",
    "\n",
    "ob = {s: 0, n: 1}\n",
    "ar = lambda params: {\n",
    "    Alice: Ket(0), Bob: Ket(1),\n",
    "    loves: verb_ansatz(params['loves'])}\n",
    "\n",
    "F = lambda params: CircuitFunctor(ob, ar(params))\n",
    "\n",
    "params = {'loves': 0.5}\n",
    "\n",
    "print(\"Circuit for 'Alice loves Bob':\")\n",
    "drawing.equation(\n",
    "    sentence, F(params)(sentence), symbol='$\\mapsto$',\n",
    "    aspect='auto', draw_type_labels=False, figsize=(8, 4))"
   ]
  },
  {
   "cell_type": "markdown",
   "id": "89c8cca2",
   "metadata": {},
   "source": [
    "Different ways of evaluating functors:\n",
    "\n",
    "* executing them on quantum devices with:\n",
    "    - t$\\vert$ket$\\rangle$,\n",
    "    - pennylane (WIP)\n",
    "* high-performance classical simulation with\n",
    "    - JAX,\n",
    "    - pytorch,\n",
    "    - tensorflow,\n",
    "    - tensornetwork,\n",
    "    - etc.\n",
    "    \n",
    "... and we keep on adding tools to the toolbox!\n",
    "\n",
    "* classical-quantum processes (all of the dodo book in Python),\n",
    "* from qubits to arbitrary-dimensional qudits,\n",
    "* diagrammatic differentiation of diagrams with symbolic parameters,\n",
    "* quantum linear optical computing (coming soon!)"
   ]
  }
 ],
 "metadata": {
  "kernelspec": {
   "display_name": "Python 3 (ipykernel)",
   "language": "python",
   "name": "python3"
  },
  "language_info": {
   "codemirror_mode": {
    "name": "ipython",
    "version": 3
   },
   "file_extension": ".py",
   "mimetype": "text/x-python",
   "name": "python",
   "nbconvert_exporter": "python",
   "pygments_lexer": "ipython3",
   "version": "3.10.3"
  }
 },
 "nbformat": 4,
 "nbformat_minor": 5
}
