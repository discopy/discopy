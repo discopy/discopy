{
 "cells": [
  {
   "cell_type": "markdown",
   "metadata": {},
   "source": [
    "# qnlp-tutorial\n",
    "\n",
    "We go through the basics of DisCoPy and QNLP. On the menu:\n",
    "\n",
    "1. [Drawing cooking recipes](#1.-Drawing-cooking-recipes)\n",
    "2. [Tensors as boxes](#2.-Tensors-as-boxes)\n",
    "3. [Drawing quantum circuits](#3.-Drawing-quantum-circuits)\n",
    "4. [Drawing grammatical structure](#4.-Drawing-grammatical-structure)\n",
    "5. [Putting it all together: QNLP](#5.-Putting-it-all-together:-QNLP)\n",
    "6. [References](#References)"
   ]
  },
  {
   "cell_type": "markdown",
   "metadata": {},
   "source": [
    "## 1. Drawing cooking recipes\n",
    "\n",
    "An `Ob` (_object_) can be thought of as a basic ingredient in a recipe, it is defined only by its name, e.g. `'egg'`, `'sentence'`, `'qubit'`, etc.\n",
    "A `Ty` (_type_) is simply a sequence of objects, i.e. a bunch of ingredients side by side, e.g. `Ty('egg', 'qubit')` represents an egg next to a qubit.\n",
    "Types form a monoid with `@` (_tensor_) as product and `Ty()` (_the empty type_) as unit.\n",
    "For example:"
   ]
  },
  {
   "cell_type": "code",
   "execution_count": 1,
   "metadata": {},
   "outputs": [],
   "source": [
    "from discopy import Ob, Ty\n",
    "\n",
    "egg, white, yolk = Ty('egg'), Ty('white'), Ty('yolk')\n",
    "\n",
    "assert egg.objects == [Ob('egg')]\n",
    "assert white @ yolk == Ty(Ob('white'), Ob('yolk'))\n",
    "\n",
    "assert egg @ Ty() == egg == Ty() @ egg\n",
    "assert egg @ (white @ yolk) == (egg @ white) @ yolk"
   ]
  },
  {
   "cell_type": "markdown",
   "metadata": {},
   "source": [
    "Once we have defined some types, we can draw a `Box` with some types as `dom` (_domain_) and `cod` (_codomain_) which represent the inputs and outputs of a process. Note that we draw all our diagrams top to bottom."
   ]
  },
  {
   "cell_type": "code",
   "execution_count": 2,
   "metadata": {},
   "outputs": [
    {
     "data": {
      "image/png": "[encoded data removed]",
      "text/plain": [
       "<Figure size 144x144 with 1 Axes>"
      ]
     },
     "metadata": {
      "needs_background": "light"
     },
     "output_type": "display_data"
    }
   ],
   "source": [
    "from discopy import Box\n",
    "\n",
    "crack = Box('crack', dom=egg, cod=white @ yolk)\n",
    "\n",
    "crack.draw(figsize=(2, 2))"
   ]
  },
  {
   "cell_type": "markdown",
   "metadata": {},
   "source": [
    "We can put boxes side by side with `@` (_tensor_) and compose them in sequence with `>>` (_then_)."
   ]
  },
  {
   "cell_type": "code",
   "execution_count": 3,
   "metadata": {},
   "outputs": [
    {
     "data": {
      "image/png": "[encoded data removed]",
      "text/plain": [
       "<Figure size 576x144 with 1 Axes>"
      ]
     },
     "metadata": {
      "needs_background": "light"
     },
     "output_type": "display_data"
    }
   ],
   "source": [
    "from discopy import drawing\n",
    "\n",
    "mix = Box('mix', white @ yolk, egg)\n",
    "\n",
    "crack_tensor_mix = crack @ mix\n",
    "crack_then_mix = crack >> mix\n",
    "\n",
    "drawing.equation(crack_tensor_mix, crack_then_mix, space=2, symbol=', ', figsize=(8, 2))"
   ]
  },
  {
   "cell_type": "markdown",
   "metadata": {},
   "source": [
    "We can draw the `Id` (_identity_) for a type, i.e. just some parallel wires. Composing with an identity does nothing. Tensoring with `Id(Ty())` (_the empty diagram_) does nothing either."
   ]
  },
  {
   "cell_type": "code",
   "execution_count": 4,
   "metadata": {},
   "outputs": [
    {
     "data": {
      "image/png": "[encoded data removed]",
      "text/plain": [
       "<Figure size 216x144 with 1 Axes>"
      ]
     },
     "metadata": {
      "needs_background": "light"
     },
     "output_type": "display_data"
    }
   ],
   "source": [
    "from discopy import Id\n",
    "\n",
    "assert crack >> Id(white @ yolk) == crack == Id(egg) >> crack\n",
    "assert crack @ Id(Ty()) == crack == Id(Ty()) @ crack\n",
    "\n",
    "sugar, yolky_paste = Ty('sugar'), Ty('yolky_paste')\n",
    "beat = Box('beat', yolk @ sugar, yolky_paste)\n",
    "\n",
    "crack_then_beat = crack @ Id(sugar) >> Id(white) @ beat\n",
    "\n",
    "crack_then_beat.draw(figsize=(3, 2))"
   ]
  },
  {
   "cell_type": "markdown",
   "metadata": {},
   "source": [
    "We can change the order of ingredients using special boxes called `Swap`. This is needed for cooking indeed some recipes cannot be written on the plane. For example:"
   ]
  },
  {
   "cell_type": "code",
   "execution_count": 5,
   "metadata": {},
   "outputs": [
    {
     "data": {
      "image/png": "[encoded data removed]",
      "text/plain": [
       "<Figure size 216x288 with 1 Axes>"
      ]
     },
     "metadata": {
      "needs_background": "light"
     },
     "output_type": "display_data"
    }
   ],
   "source": [
    "from discopy import Swap\n",
    "\n",
    "merge = lambda x: Box('merge', x @ x, x)\n",
    "\n",
    "crack_two_eggs = crack @ crack\\\n",
    "    >> Id(white) @ Swap(yolk, white) @ Id(yolk)\\\n",
    "    >> merge(white) @ merge(yolk)\n",
    "\n",
    "crack_two_eggs.draw(figsize=(3, 4))"
   ]
  },
  {
   "cell_type": "markdown",
   "metadata": {},
   "source": [
    "**Exercise:** Draw your favorite cooking recipe as a diagram. You'll want to keep your ingredients in order if you want to avoid swapping them too much.\n",
    "\n",
    "**Reading:** Check out Pawel's blogpost [Crema di mascarpone and diagrammatic reasoning](https://graphicallinearalgebra.net/2015/05/06/crema-di-mascarpone-rules-of-the-game-part-2-and-diagrammatic-reasoning/).\n",
    "\n",
    "**Exercise:** Define a function that takes a number `n` and returns the recipe of a tiramisu with `n` layers of crema di mascarpone and savoiardi.\n",
    "\n",
    "**Exercise (harder):** Define a function that takes a number `n` and returns the recipe for cracking `n` eggs."
   ]
  },
  {
   "cell_type": "markdown",
   "metadata": {},
   "source": [
    "Anything we can draw using boxes, tensor, composition and identities is called a `Diagram`. A diagram is uniquely defined by a domain, a codomain, a list of boxes and a list of _offsets_. The offset of a box encodes its $x$-coordinate as the number of wires passing to its left, its $y$-coordinate is given by its index in the list. For example:"
   ]
  },
  {
   "cell_type": "code",
   "execution_count": 6,
   "metadata": {},
   "outputs": [
    {
     "name": "stdout",
     "output_type": "stream",
     "text": [
      "assert crack_two_eggs == Diagram(\n",
      "    dom=Ty('egg', 'egg'),\n",
      "    cod=Ty('white', 'yolk'),\n",
      "    boxes=[Box('crack', Ty('egg'), Ty('white', 'yolk')),\n",
      "           Box('crack', Ty('egg'), Ty('white', 'yolk')),\n",
      "           Swap(Ty('yolk'), Ty('white')),\n",
      "           Box('merge', Ty('white', 'white'), Ty('white')),\n",
      "           Box('merge', Ty('yolk', 'yolk'), Ty('yolk'))],\n",
      "    offsets=[0, 2, 1, 0, 1])\n"
     ]
    }
   ],
   "source": [
    "from discopy import Diagram\n",
    "\n",
    "def pretty(diagram):\n",
    "    return \"Diagram(\\n\"\\\n",
    "    + \"    dom={},\\n\".format(repr(diagram.dom))\\\n",
    "    + \"    cod={},\\n\".format(repr(diagram.cod))\\\n",
    "    + \"    boxes=[{}],\\n\".format(',\\n           '.join(map(repr, diagram.boxes)))\\\n",
    "    + \"    offsets={})\".format(diagram.offsets)\n",
    "\n",
    "assertion = \"assert crack_two_eggs == {}\".format(pretty(crack_two_eggs))\n",
    "\n",
    "exec(assertion)\n",
    "print(assertion)"
   ]
  },
  {
   "cell_type": "markdown",
   "metadata": {},
   "source": [
    "While `Diagram` is the core data structure of DisCoPy, `Functor` is its main algorithm. It is initialised by two mappings:\n",
    "\n",
    "* `ob` maps objects (i.e. types of length `1`) to types,\n",
    "* `ar` maps boxes to diagrams.\n",
    "\n",
    "The functor takes a diagram, substitute each box by its image under the `ar` mapping and returns the resulting diagram. We can use this to \"open a box\", for example:"
   ]
  },
  {
   "cell_type": "code",
   "execution_count": 7,
   "metadata": {},
   "outputs": [
    {
     "data": {
      "image/png": "[encoded data removed]",
      "text/plain": [
       "<Figure size 504x252 with 1 Axes>"
      ]
     },
     "metadata": {
      "needs_background": "light"
     },
     "output_type": "display_data"
    }
   ],
   "source": [
    "from discopy import Functor\n",
    "\n",
    "crack2 = Box(\"crack\", egg @ egg, white @ yolk)\n",
    "\n",
    "open_crack2 = Functor(\n",
    "    ob=lambda x: x,\n",
    "    ar={crack2: crack_two_eggs, beat: beat})\n",
    "\n",
    "crack2_then_beat = crack2 @ Id(sugar) >> Id(white) @ beat\n",
    "\n",
    "drawing.equation(\n",
    "    crack2_then_beat,\n",
    "    open_crack2(crack2_then_beat),\n",
    "    symbol='$\\\\mapsto$', figsize=(7, 3.5))"
   ]
  },
  {
   "cell_type": "markdown",
   "metadata": {},
   "source": [
    "Another example of a functor is the translation from English cooking to French cuisine."
   ]
  },
  {
   "cell_type": "code",
   "execution_count": 8,
   "metadata": {},
   "outputs": [
    {
     "data": {
      "image/png": "[encoded data removed]",
      "text/plain": [
       "<Figure size 216x144 with 1 Axes>"
      ]
     },
     "metadata": {
      "needs_background": "light"
     },
     "output_type": "display_data"
    }
   ],
   "source": [
    "oeuf, blanc, jaune, sucre = Ty(\"oeuf\"), Ty(\"blanc\"), Ty(\"jaune\"), Ty(\"sucre\")\n",
    "\n",
    "ouvrir = Box(\"ouvrir\", oeuf, blanc @ jaune)\n",
    "battre = Box(\"battre\", jaune @ sucre, jaune)\n",
    "\n",
    "english2french = Functor(\n",
    "    ob={egg: oeuf,\n",
    "        white: blanc,\n",
    "        yolk: jaune,\n",
    "        sugar: sucre,\n",
    "        yolky_paste: jaune},\n",
    "    ar={crack: ouvrir,\n",
    "        beat: battre})\n",
    "\n",
    "english2french(crack_then_beat).draw(figsize=(3, 2))"
   ]
  },
  {
   "cell_type": "markdown",
   "metadata": {},
   "source": [
    "Functors compose just like Python functions, e.g."
   ]
  },
  {
   "cell_type": "code",
   "execution_count": 9,
   "metadata": {},
   "outputs": [
    {
     "data": {
      "image/png": "[encoded data removed]",
      "text/plain": [
       "<Figure size 288x288 with 1 Axes>"
      ]
     },
     "metadata": {
      "needs_background": "light"
     },
     "output_type": "display_data"
    }
   ],
   "source": [
    "melanger = lambda x: Box(\"mélanger\", x @ x, x)\n",
    "\n",
    "for x in [white, yolk]:\n",
    "    english2french.ar[merge(x)] = melanger(english2french(x))\n",
    "\n",
    "english2french(open_crack2(crack2_then_beat)).draw(figsize=(4, 4))"
   ]
  },
  {
   "cell_type": "markdown",
   "metadata": {},
   "source": [
    "**Exercise:** Define a functor that translate your favorite language to English, try composing it with `english2french`.\n",
    "\n",
    "**Exercise:** Define a `french2english` functor, check that it's the inverse of `english2french` on a small example."
   ]
  },
  {
   "cell_type": "markdown",
   "metadata": {},
   "source": [
    "## 2. Tensors as boxes\n",
    "\n",
    "Sadly, Python is not very good at cooking, it doesn't even have a proper `coffee` module. There is one thing that Python's `numpy` module is good at though: computing with multi-dimensional arrays, a.k.a. **tensors**. We can interpret tensors as cooking steps with the dimensions of their axes as ingredients, i.e. **tensors are boxes**.\n",
    "\n",
    "`Dim` (dimension) is a subclass of `Ty` where the objects are integers greater than 1, with multiplication as tensor and the unit dimension `Dim(1)`. `Tensor` is a subclass of `Box` defined by a pair of dimensions `dom, cod` and an `array` with shape `dom @ cod`."
   ]
  },
  {
   "cell_type": "code",
   "execution_count": 10,
   "metadata": {},
   "outputs": [
    {
     "data": {
      "text/plain": [
       "array([[0, 1],\n",
       "       [1, 0]])"
      ]
     },
     "execution_count": 10,
     "metadata": {},
     "output_type": "execute_result"
    }
   ],
   "source": [
    "from discopy import Dim, Tensor\n",
    "\n",
    "matrix = Tensor(Dim(2), Dim(2), [0, 1, 1, 0])\n",
    "\n",
    "matrix.array"
   ]
  },
  {
   "cell_type": "markdown",
   "metadata": {},
   "source": [
    "Composition is given by matrix multiplication, with `Tensor.id` as identity, e.g."
   ]
  },
  {
   "cell_type": "code",
   "execution_count": 11,
   "metadata": {},
   "outputs": [
    {
     "data": {
      "text/plain": [
       "Tensor(dom=Dim(1), cod=Dim(2), array=[1, 0])"
      ]
     },
     "execution_count": 11,
     "metadata": {},
     "output_type": "execute_result"
    }
   ],
   "source": [
    "assert matrix >> Tensor.id(Dim(2)) == matrix == Tensor.id(Dim(2)) >> matrix\n",
    "\n",
    "vector = Tensor(Dim(1), Dim(2), [0, 1])\n",
    "\n",
    "vector >> matrix"
   ]
  },
  {
   "cell_type": "markdown",
   "metadata": {},
   "source": [
    "Tensor is given by the Kronecker product, with `Tensor.id(Dim(1))` as unit, e.g."
   ]
  },
  {
   "cell_type": "code",
   "execution_count": 12,
   "metadata": {},
   "outputs": [
    {
     "data": {
      "text/plain": [
       "Tensor(dom=Dim(1), cod=Dim(1), array=[1.])"
      ]
     },
     "execution_count": 12,
     "metadata": {},
     "output_type": "execute_result"
    }
   ],
   "source": [
    "assert Tensor.id(Dim(1)) @ matrix == matrix == matrix @ Tensor.id(Dim(1))\n",
    "\n",
    "Tensor.id(Dim(1))"
   ]
  },
  {
   "cell_type": "code",
   "execution_count": 13,
   "metadata": {},
   "outputs": [
    {
     "data": {
      "text/plain": [
       "Tensor(dom=Dim(1), cod=Dim(2, 2), array=[0, 0, 0, 1])"
      ]
     },
     "execution_count": 13,
     "metadata": {},
     "output_type": "execute_result"
    }
   ],
   "source": [
    "vector @ vector"
   ]
  },
  {
   "cell_type": "code",
   "execution_count": 14,
   "metadata": {},
   "outputs": [
    {
     "data": {
      "text/plain": [
       "Tensor(dom=Dim(2), cod=Dim(2, 2), array=[0, 0, 0, 0, 0, 1, 1, 0])"
      ]
     },
     "execution_count": 14,
     "metadata": {},
     "output_type": "execute_result"
    }
   ],
   "source": [
    "vector @ matrix"
   ]
  },
  {
   "cell_type": "markdown",
   "metadata": {},
   "source": [
    "In practice, both composition and tensor are computed using `numpy.tensordot` and `numpy.moveaxis`."
   ]
  },
  {
   "cell_type": "code",
   "execution_count": 15,
   "metadata": {},
   "outputs": [],
   "source": [
    "import numpy as np\n",
    "\n",
    "assert np.all(\n",
    "    (matrix >> matrix).array == matrix.array.dot(matrix.array))\n",
    "assert np.all(\n",
    "    (matrix @ matrix).array == np.moveaxis(np.tensordot(\n",
    "    matrix.array, matrix.array, 0), range(4), [0, 2, 1, 3]))"
   ]
  },
  {
   "cell_type": "markdown",
   "metadata": {},
   "source": [
    "We can compute the conjugate transpose of a tensor using `[::-1]` (_dagger_)."
   ]
  },
  {
   "cell_type": "code",
   "execution_count": 16,
   "metadata": {},
   "outputs": [
    {
     "data": {
      "text/plain": [
       "Tensor(dom=Dim(2), cod=Dim(2), array=[1.+0.j, 0.+0.j, 0.+0.j, 1.+0.j])"
      ]
     },
     "execution_count": 16,
     "metadata": {},
     "output_type": "execute_result"
    }
   ],
   "source": [
    "matrix = Tensor(Dim(2), Dim(2), [0, -1j, 1j, 0])\n",
    "\n",
    "matrix >> matrix[::-1]"
   ]
  },
  {
   "cell_type": "markdown",
   "metadata": {},
   "source": [
    "Thus, we can compute the inner product of two vectors as a scalar tensor."
   ]
  },
  {
   "cell_type": "code",
   "execution_count": 17,
   "metadata": {},
   "outputs": [
    {
     "data": {
      "text/plain": [
       "Tensor(dom=Dim(1), cod=Dim(1), array=[0.-1.j])"
      ]
     },
     "execution_count": 17,
     "metadata": {},
     "output_type": "execute_result"
    }
   ],
   "source": [
    "vector1 = Tensor(Dim(1), Dim(2), [-1j, 1j]) \n",
    "\n",
    "vector >> vector1[::-1]"
   ]
  },
  {
   "cell_type": "markdown",
   "metadata": {},
   "source": [
    "We can add tensors elementwise, with the unit given by `Tensor.zeros`."
   ]
  },
  {
   "cell_type": "code",
   "execution_count": 18,
   "metadata": {},
   "outputs": [
    {
     "data": {
      "text/plain": [
       "Tensor(dom=Dim(1), cod=Dim(2), array=[0, 2])"
      ]
     },
     "execution_count": 18,
     "metadata": {},
     "output_type": "execute_result"
    }
   ],
   "source": [
    "vector + vector"
   ]
  },
  {
   "cell_type": "code",
   "execution_count": 19,
   "metadata": {},
   "outputs": [],
   "source": [
    "zero = Tensor.zeros(Dim(1), Dim(2))\n",
    "assert vector + zero == vector == zero + vector"
   ]
  },
  {
   "cell_type": "markdown",
   "metadata": {},
   "source": [
    "We can reorder the axes of the domain or codomain of a tensor by composing it with `Tensor.swap`."
   ]
  },
  {
   "cell_type": "code",
   "execution_count": 20,
   "metadata": {},
   "outputs": [],
   "source": [
    "swap = Tensor.swap(Dim(2), Dim(3))\n",
    "\n",
    "assert swap.dom == Dim(2) @ Dim(3) and swap.cod == Dim(3) @ Dim(2)\n",
    "assert swap >> swap[::-1] == Tensor.id(Dim(2, 3))\n",
    "assert swap[::-1] >> swap == Tensor.id(Dim(3, 2))\n",
    "\n",
    "matrix1 = Tensor(Dim(3), Dim(3), list(range(9)))\n",
    "\n",
    "assert vector @ matrix1 >> swap == matrix1 @ vector\n",
    "assert swap >> matrix1 @ matrix >> swap[::-1] == matrix @ matrix1"
   ]
  },
  {
   "cell_type": "markdown",
   "metadata": {},
   "source": [
    "In order to turn a domain axis into a codomain axis or vice-versa, we can \"bend the legs\" of a tensor up and down using `Tensor.cups` and `Tensor.caps`."
   ]
  },
  {
   "cell_type": "code",
   "execution_count": 21,
   "metadata": {},
   "outputs": [
    {
     "name": "stdout",
     "output_type": "stream",
     "text": [
      "cup == Tensor(dom=Dim(2, 2), cod=Dim(1), array=[1., 0., 0., 1.])\n",
      "cap == Tensor(dom=Dim(1), cod=Dim(2, 2), array=[1., 0., 0., 1.])\n"
     ]
    }
   ],
   "source": [
    "cup, cap = Tensor.cups(Dim(2), Dim(2)), Tensor.caps(Dim(2), Dim(2))\n",
    "\n",
    "print(\"cup == {}\".format(cup))\n",
    "print(\"cap == {}\".format(cap))"
   ]
  },
  {
   "cell_type": "code",
   "execution_count": 22,
   "metadata": {},
   "outputs": [],
   "source": [
    "_id = Tensor.id(Dim(2))\n",
    "\n",
    "assert cap @ _id >> _id @ cup == _id == _id @ cap >> cup @ _id"
   ]
  },
  {
   "cell_type": "markdown",
   "metadata": {},
   "source": [
    "The assertion just above is called the **snake equation**. It is pretty hard to see where this name comes from if we just try to draw the equation. Indeed, all three sides of the equation are just `Tensor` boxes with some array inside:"
   ]
  },
  {
   "cell_type": "code",
   "execution_count": 23,
   "metadata": {},
   "outputs": [
    {
     "data": {
      "image/png": "[encoded data removed]",
      "text/plain": [
       "<Figure size 360x72 with 1 Axes>"
      ]
     },
     "metadata": {
      "needs_background": "light"
     },
     "output_type": "display_data"
    }
   ],
   "source": [
    "drawing.equation(cap @ _id >> _id @ cup, _id, _id @ cap >> cup @ _id, figsize=(5, 1))"
   ]
  },
  {
   "cell_type": "markdown",
   "metadata": {},
   "source": [
    "In order to draw a more meaningful equation, we need to draw diagrams, not boxes. We can use the special `Cup` and `Cap` boxes to draw bended wires."
   ]
  },
  {
   "cell_type": "code",
   "execution_count": 24,
   "metadata": {},
   "outputs": [
    {
     "data": {
      "image/png": "[encoded data removed]",
      "text/plain": [
       "<Figure size 360x144 with 1 Axes>"
      ]
     },
     "metadata": {
      "needs_background": "light"
     },
     "output_type": "display_data"
    }
   ],
   "source": [
    "from discopy import Cup, Cap\n",
    "\n",
    "left_snake = Cap(Dim(2), Dim(2)) @ Id(Dim(2)) >> Id(Dim(2)) @ Cup(Dim(2), Dim(2))\n",
    "right_snake = Id(Dim(2)) @ Cap(Dim(2), Dim(2)) >> Cup(Dim(2), Dim(2)) @ Id(Dim(2))\n",
    "\n",
    "drawing.equation(left_snake, Id(Dim(2)), right_snake, figsize=(5, 2), draw_type_labels=False)"
   ]
  },
  {
   "cell_type": "markdown",
   "metadata": {},
   "source": [
    "Two diagrams that are drawn differently cannot be equal Python objects: they have different lists of boxes and offsets. What we can say however, is that the diagrams are interpreted as the same `Tensor` box. This interpretation can be computed using a `tensor.Functor`, defined by two mappings: `ob` from type to dimension (e.g. `qubit` to `Dim(2)`) and `ar` from box to array (e.g. `X` to `[0, 1, 1, 0]`). For now let's take these two mappings to be identity functions."
   ]
  },
  {
   "cell_type": "code",
   "execution_count": 25,
   "metadata": {},
   "outputs": [],
   "source": [
    "from discopy import tensor\n",
    "\n",
    "_eval = tensor.Functor(\n",
    "    ob=lambda x: x,\n",
    "    ar=lambda f: f)\n",
    "\n",
    "assert _eval(left_snake) == _eval(Id(Dim(2))) == _eval(right_snake)"
   ]
  },
  {
   "cell_type": "markdown",
   "metadata": {},
   "source": [
    "A `tensor.Diagram`, also called a **tensor network**, is a subclass of `Diagram` equipped with such an `eval` method. A `tensor.Box`, also called a **node** in a tensor network, is a subclass of `Box` equipped with an attribute `array`. The evaluation a tensor diagram, i.e. the `tensor.Functor` that maps each box to its array, is also called **tensor contraction**."
   ]
  },
  {
   "cell_type": "code",
   "execution_count": 26,
   "metadata": {},
   "outputs": [
    {
     "data": {
      "image/png": "[encoded data removed]",
      "text/plain": [
       "<Figure size 216x144 with 1 Axes>"
      ]
     },
     "metadata": {
      "needs_background": "light"
     },
     "output_type": "display_data"
    }
   ],
   "source": [
    "f = tensor.Box(\"$f$\", Dim(2), Dim(2), [1, 2, 3, 4])\n",
    "f_T = tensor.Box(\"$f^T$\", Dim(2), Dim(2), [1, 3, 2, 4])\n",
    "\n",
    "diagram = tensor.Diagram(\n",
    "    dom=Dim(2), cod=Dim(2),\n",
    "    boxes=[Cap(Dim(2), Dim(2)), f, Cup(Dim(2), Dim(2))],\n",
    "    offsets=[0, 1, 1])\n",
    "\n",
    "drawing.equation(f_T, diagram, figsize=(3, 2), fontsize=14, draw_type_labels=False)\n",
    "\n",
    "assert not f_T == diagram\n",
    "assert f_T.eval() == diagram.eval()"
   ]
  },
  {
   "cell_type": "markdown",
   "metadata": {},
   "source": [
    "The distinction between a `tensor.Diagram` and its interpretation as a `Tensor` is crucial. Indeed, two diagrams that evaluate to the same tensor may take very different times to compute. For example: "
   ]
  },
  {
   "cell_type": "code",
   "execution_count": 27,
   "metadata": {},
   "outputs": [
    {
     "name": "stdout",
     "output_type": "stream",
     "text": [
      "7.54 ms ± 277 µs per loop (mean ± std. dev. of 7 runs, 100 loops each)\n"
     ]
    }
   ],
   "source": [
    "%timeit diagram.eval()"
   ]
  },
  {
   "cell_type": "code",
   "execution_count": 28,
   "metadata": {},
   "outputs": [
    {
     "name": "stdout",
     "output_type": "stream",
     "text": [
      "313 µs ± 18.9 µs per loop (mean ± std. dev. of 7 runs, 1000 loops each)\n"
     ]
    }
   ],
   "source": [
    "%timeit f_T.eval()"
   ]
  },
  {
   "cell_type": "markdown",
   "metadata": {},
   "source": [
    "**Exercise:** Check out the [diagram rewriting](https://discopy.readthedocs.io/en/main/notebooks/rewriting-diagrams.html) notebook to learn how to remove snakes from a diagram. This can greatly speed up the evaluation of tensor diagrams!\n",
    "\n",
    "**Exercise:** Define a function that takes a number `n` and returns the diagram for a [matrix product state](https://en.wikipedia.org/wiki/Matrix_product_state) (MPS) with `n` particles and random entries. Check how the evaluation time scales with the size of the diagram. \n",
    "\n",
    "**Exercise:** Pip install the [tensornetwork](https://pypi.org/project/tensornetwork/) library and use it to contract the MPS diagrams more efficiently. This is done with the syntax `diagram.eval(contractor=tn.contractor.auto)`, see the [docs](https://discopy.readthedocs.io/en/main/_autosummary/discopy.tensor.Diagram.html#discopy.tensor.Diagram.eval)."
   ]
  },
  {
   "cell_type": "markdown",
   "metadata": {},
   "source": [
    "## 3. Drawing quantum circuits\n",
    "\n",
    "A (_pure_) quantum `Circuit` is simply a recipe with qubits as ingredients and `QuantumGate` boxes as cooking steps. A quantum gate is defined by a number of qubits and a unitary matrix."
   ]
  },
  {
   "cell_type": "code",
   "execution_count": 29,
   "metadata": {},
   "outputs": [
    {
     "data": {
      "image/png": "[encoded data removed]",
      "text/plain": [
       "<Figure size 144x144 with 1 Axes>"
      ]
     },
     "metadata": {
      "needs_background": "light"
     },
     "output_type": "display_data"
    }
   ],
   "source": [
    "from discopy.quantum import qubit, H, Id, CX, QuantumGate\n",
    "\n",
    "assert H == QuantumGate(\"H\", 1, 1 / np.sqrt(2) * np.array([1, 1, 1, -1]), _dagger=None)\n",
    "\n",
    "circuit = H @ Id(qubit) >> CX\n",
    "\n",
    "circuit.draw(figsize=(2, 2), draw_type_labels=True, margins=(.1, .1))"
   ]
  },
  {
   "cell_type": "markdown",
   "metadata": {},
   "source": [
    "A pure quantum circuit can be evaluated as a `Tensor` object, i.e. it is a subclass of `tensor.Diagram`."
   ]
  },
  {
   "cell_type": "code",
   "execution_count": 30,
   "metadata": {},
   "outputs": [],
   "source": [
    "assert H.eval() == H.array\n",
    "assert Id(qubit).eval() == Tensor.id(Dim(2))\n",
    "\n",
    "assert circuit.eval() == H.eval() @ Id(qubit).eval() >> CX.eval()"
   ]
  },
  {
   "cell_type": "markdown",
   "metadata": {},
   "source": [
    "Pure quantum circuits are reversible. We call the reverse of a circuit its _dagger_, written with the operator `[::-1]`. "
   ]
  },
  {
   "cell_type": "code",
   "execution_count": 31,
   "metadata": {},
   "outputs": [
    {
     "name": "stdout",
     "output_type": "stream",
     "text": [
      "CX >> H @ Id(1)\n"
     ]
    },
    {
     "data": {
      "image/png": "[encoded data removed]",
      "text/plain": [
       "<Figure size 144x144 with 1 Axes>"
      ]
     },
     "metadata": {
      "needs_background": "light"
     },
     "output_type": "display_data"
    }
   ],
   "source": [
    "print(circuit[::-1])\n",
    "circuit[::-1].draw(figsize=(2, 2), margins=(.1,.1))"
   ]
  },
  {
   "cell_type": "code",
   "execution_count": 32,
   "metadata": {},
   "outputs": [],
   "source": [
    "assert (CX >> CX[::-1]).eval() == Id(qubit ** 2).eval()\n",
    "assert np.all(np.isclose((H >> H[::-1]).eval(), Id(qubit).eval()))"
   ]
  },
  {
   "cell_type": "markdown",
   "metadata": {},
   "source": [
    "Matrix multiplication is fun and all, but that's not really what quantum computers do. To simulate the quantum state that the circuit produces, we need to pre-compose it with a `Ket`, i.e. we need to initialise some qubits before we apply our circuit.\n",
    "In our example `circuit`, the resulting state is the so called Bell state $\\frac{1}{\\sqrt{2}} (|00\\rangle + |11\\rangle)$."
   ]
  },
  {
   "cell_type": "code",
   "execution_count": 33,
   "metadata": {},
   "outputs": [
    {
     "data": {
      "image/png": "[encoded data removed]",
      "text/plain": [
       "<Figure size 144x180 with 1 Axes>"
      ]
     },
     "metadata": {
      "needs_background": "light"
     },
     "output_type": "display_data"
    }
   ],
   "source": [
    "from discopy.quantum import Ket\n",
    "\n",
    "(Ket(0, 0) >> circuit).draw(figsize=(2, 2.5))"
   ]
  },
  {
   "cell_type": "code",
   "execution_count": 34,
   "metadata": {},
   "outputs": [
    {
     "data": {
      "text/plain": [
       "Tensor(dom=Dim(1), cod=Dim(2, 2), array=[0.70710678+0.j, 0.    +0.j, 0.    +0.j, 0.70710678+0.j])"
      ]
     },
     "execution_count": 34,
     "metadata": {},
     "output_type": "execute_result"
    }
   ],
   "source": [
    "(Ket(0, 0) >> circuit).eval()"
   ]
  },
  {
   "cell_type": "markdown",
   "metadata": {},
   "source": [
    "To compute the probability of a particular measurement result, we need to post-compose our circuit with a `Bra`, the dagger of `Ket`, then apply the Born rule."
   ]
  },
  {
   "cell_type": "code",
   "execution_count": 35,
   "metadata": {},
   "outputs": [
    {
     "name": "stdout",
     "output_type": "stream",
     "text": [
      "amplitude:\n"
     ]
    },
    {
     "data": {
      "image/png": "[encoded data removed]",
      "text/plain": [
       "<Figure size 144x216 with 1 Axes>"
      ]
     },
     "metadata": {
      "needs_background": "light"
     },
     "output_type": "display_data"
    },
    {
     "name": "stdout",
     "output_type": "stream",
     "text": [
      "probability: 0.4999999999999999\n"
     ]
    }
   ],
   "source": [
    "from discopy.quantum import Bra\n",
    "\n",
    "experiment = Ket(0, 0) >> circuit >> Bra(0, 0)\n",
    "\n",
    "print(\"amplitude:\")\n",
    "experiment.draw(figsize=(2, 3))\n",
    "amplitude = experiment.eval().array[0]\n",
    "\n",
    "probability = abs(amplitude) ** 2\n",
    "print(\"probability: {}\".format(probability))"
   ]
  },
  {
   "cell_type": "markdown",
   "metadata": {},
   "source": [
    "If we want to get the probability distribution over bitstrings, we need to leave the realm of purity to consider **mixed** quantum circuits with both `bit` and `qubit` ingredients.\n",
    "The `Measure` box has `dom=qubit` and `cod=bit`.\n",
    "Another example of a mixed box is `Discard` which computes a partial trace over a qubit.\n",
    "Mixed circuits cannot be evaluated as a unitary matrix anymore.\n",
    "Instead whenever the circuit is mixed, `circuit.eval()` outputs a `CQMap`: a `numpy.ndarray` with axes for the classical and quantum dimensions of the circuit."
   ]
  },
  {
   "cell_type": "code",
   "execution_count": 36,
   "metadata": {},
   "outputs": [
    {
     "name": "stdout",
     "output_type": "stream",
     "text": [
      "CQMap(dom=Q(Dim(2)), cod=CQ(), array=[1., 0., 0., 1.])\n",
      "CQMap(dom=Q(Dim(2)), cod=C(Dim(2)), array=[1, 0, 0, 0, 0, 0, 0, 1])\n"
     ]
    }
   ],
   "source": [
    "from discopy.quantum import Measure, Discard\n",
    "\n",
    "print(Discard().eval())\n",
    "print(Measure().eval())"
   ]
  },
  {
   "cell_type": "code",
   "execution_count": 37,
   "metadata": {},
   "outputs": [
    {
     "data": {
      "image/png": "[encoded data removed]",
      "text/plain": [
       "<Figure size 144x288 with 1 Axes>"
      ]
     },
     "metadata": {
      "needs_background": "light"
     },
     "output_type": "display_data"
    },
    {
     "data": {
      "text/plain": [
       "CQMap(dom=CQ(), cod=C(Dim(2)), array=[0.5+0.j, 0.5+0.j])"
      ]
     },
     "execution_count": 37,
     "metadata": {},
     "output_type": "execute_result"
    }
   ],
   "source": [
    "(Ket(0, 0) >> circuit >> Measure() @ Discard()).draw(figsize=(2, 4))\n",
    "(Ket(0, 0) >> circuit >> Measure() @ Discard()).eval()"
   ]
  },
  {
   "cell_type": "markdown",
   "metadata": {},
   "source": [
    "Note that as for diagrams of cooking recipes, we need to introduce swaps in order to apply two-qubit gates to non-adjacent qubits. These swaps have no physical meaning, they are just an artefact of drawing circuits in 2 dimensions rather than 4. Indeed, we can forget about swaps by compiling our planar diagram into the graph-based data structure of $\\mathrm{t|ket\\rangle}$."
   ]
  },
  {
   "cell_type": "code",
   "execution_count": 38,
   "metadata": {},
   "outputs": [
    {
     "data": {
      "text/plain": [
       "tk.Circuit(2).H(0).CX(0, 1)"
      ]
     },
     "execution_count": 38,
     "metadata": {},
     "output_type": "execute_result"
    }
   ],
   "source": [
    "from discopy.quantum import SWAP\n",
    "\n",
    "circuit.to_tk()"
   ]
  },
  {
   "cell_type": "code",
   "execution_count": 39,
   "metadata": {},
   "outputs": [
    {
     "data": {
      "text/plain": [
       "tk.Circuit(2).H(1).CX(1, 0)"
      ]
     },
     "execution_count": 39,
     "metadata": {},
     "output_type": "execute_result"
    }
   ],
   "source": [
    "(SWAP >> circuit >> SWAP).to_tk()"
   ]
  },
  {
   "cell_type": "markdown",
   "metadata": {},
   "source": [
    "We can execute our circuit on a $\\mathrm{t|ket\\rangle}$ backend (simulator or hardware) by passing it as a parameter to `eval`."
   ]
  },
  {
   "cell_type": "code",
   "execution_count": 40,
   "metadata": {},
   "outputs": [
    {
     "data": {
      "text/plain": [
       "Tensor(dom=Dim(1), cod=Dim(2), array=[0.49316406, 0.50683594])"
      ]
     },
     "execution_count": 40,
     "metadata": {},
     "output_type": "execute_result"
    }
   ],
   "source": [
    "from pytket.extensions.qiskit import AerBackend\n",
    "\n",
    "aer = AerBackend()\n",
    "\n",
    "(circuit >> Measure() @ Discard()).eval(backend=aer)"
   ]
  },
  {
   "cell_type": "markdown",
   "metadata": {},
   "source": [
    "**Exercise:** Run your own Bell experiment on quantum hardware! You can use IBMQ machines for free, if you're ready to wait.\n",
    "\n",
    "**Exercise:** Draw a circuit that evaluates to the GHZ state $\\frac{1}{\\sqrt{2}} (|000\\rangle + |111\\rangle)$.\n",
    "\n",
    "**Exercise (harder):** Define a function that takes a number `n` and returns a circuit for the  state $\\frac{1}{\\sqrt{2}} (|0...0\\rangle + |1...1\\rangle)$."
   ]
  },
  {
   "cell_type": "markdown",
   "metadata": {},
   "source": [
    "## 4. Drawing grammatical structure\n",
    "\n",
    "So far we've learnt how to draw diagrams of cooking recipes and how to evaluate quantum circuits. Now we're gonna see that diagrams can represent **grammatical structure**. The basic ingredients are grammatical types: `n` for noun, `s` for sentence, etc. Each ingredient has left and right adjoints `n.l` and `n.r` which represent a missing noun on the right and left respectively. For example, the type for intransitive verbs `n.r @ s` reads \"take a noun on your left and give a sentence\".\n",
    "\n",
    "The cooking steps are of two kinds: words and cups. Words have no inputs, they output their own grammatical type. Cups have no outputs, they take as inputs two types `left` and `right` that cancel each other, i.e. such that `left.r == right`. The recipe for a sentence goes in three steps:\n",
    "\n",
    "1. Tensor the word boxes together.\n",
    "2. Compose with cups and identities.\n",
    "3. Once there is only the sentence type `s` left, you parsed the sentence!\n",
    "\n",
    "For example:"
   ]
  },
  {
   "cell_type": "code",
   "execution_count": 41,
   "metadata": {},
   "outputs": [
    {
     "data": {
      "image/png": "[encoded data removed]",
      "text/plain": [
       "<Figure size 360x360 with 1 Axes>"
      ]
     },
     "metadata": {
      "needs_background": "light"
     },
     "output_type": "display_data"
    }
   ],
   "source": [
    "from discopy import Ty, Id, Word, Cup, pregroup\n",
    "\n",
    "n, s = Ty('n'), Ty('s')\n",
    "\n",
    "Alice = Word(\"Alice\", n)\n",
    "loves = Word(\"loves\", n.r @ s @ n.l)\n",
    "Bob = Word(\"Bob\", n)\n",
    "\n",
    "grammar = Cup(n, n.r) @ Id(s) @ Cup(n.l, n)\n",
    "\n",
    "sentence = Alice @ loves @ Bob >> grammar\n",
    "pregroup.draw(sentence, figsize=(5, 5))"
   ]
  },
  {
   "cell_type": "markdown",
   "metadata": {},
   "source": [
    "Note that although in this tutorial we draw all our diagram by hand, this parsing process can be automated. Indeed once you fix a **dictionary**, i.e. a set of words with their possible grammatical types, it is completely mechanical to decide whether a sequence of words is grammatical. More precisely, it takes $O(n^3)$ time to decide whether a sequence of length $n$ is a sentence, and to output the diagram for its grammatical structure.\n",
    "\n",
    "Such a dictionary is called a **pregroup grammar**, introduced by Lambek in 1999 and has been used to study the syntax of English, French, Persian and a dozen of other natural languages. Note that pregroup grammars are as expressive as the better known **context-free grammar**, where the diagrams are called **syntax trees**."
   ]
  },
  {
   "cell_type": "markdown",
   "metadata": {},
   "source": [
    "**Exercise:** Draw the diagram of a sentence in a language with a different word order, e.g. Japanese.\n",
    "\n",
    "**Exercise:** Draw the diagram of a sentence in a language written right to left, e.g. Arabic.\n",
    "\n",
    "**Reading:** Check out Lambek's [From word to sentence](https://www.math.mcgill.ca/barr/lambek/pdffiles/2008lambek.pdf), pick your favorite example and implement it in DisCoPy."
   ]
  },
  {
   "cell_type": "markdown",
   "metadata": {},
   "source": [
    "Now the main idea behind DisCoCat (categorical compositional distributional) models is to interpret each word as a vector and the grammatical structure as a linear map.\n",
    "Composing the tensor of word vectors with the linear map for grammar yields the meaning of the sentence.\n",
    "Another way to say this is in the language of **tensor networks**:\n",
    "computing the meaning of a sentence corresponds to tensor contraction along the grammatical structure.\n",
    "\n",
    "Yet another way to say the same thing is in the language of **category theory**: computing the meaning of a sentence corresponds to the evaluation of a (strong monoidal) functor from a pregroup grammar to the category of linear maps.\n",
    "Maybe that last sentence puts you off, since category theory is also known as \"generalised abstract nonsense\". Don't worry, you don't need to remember pages of axioms to use DisCoPy, it keeps track of them for you.\n",
    "\n",
    "Let's build a simple toy model where:\n",
    "\n",
    "* we map `n` to `2`, i.e. we encode a noun as a 2d vector,\n",
    "* we map `s` to `1`, i.e. we encode a sentence as a scalar,\n",
    "* we map `Alice` and `Bob` to `[0, 1]` and `[1, 0]`, i.e. we encode them as the basis vectors,\n",
    "* we map `loves` to the matrix `[[0, 1], [1, 0]]`, i.e. `Alice loves Bob` and `Bob loves Alice`."
   ]
  },
  {
   "cell_type": "code",
   "execution_count": 42,
   "metadata": {},
   "outputs": [
    {
     "name": "stdout",
     "output_type": "stream",
     "text": [
      "Tensor(dom=Dim(1), cod=Dim(2, 2, 2, 2), array=[0., 0., 0., 0., 0., 0., 0., 0., 0., 0., 1., 0., 1., 0., 0., 0.])\n",
      "Tensor(dom=Dim(2, 2, 2, 2), cod=Dim(1), array=[1., 0., 0., 1., 0., 0., 0., 0., 0., 0., 0., 0., 1., 0., 0., 1.])\n"
     ]
    }
   ],
   "source": [
    "F = tensor.Functor(\n",
    "    ob={n: 2, s: 1},\n",
    "    ar={Alice: [0, 1], loves: [0, 1, 1, 0], Bob: [1, 0]})\n",
    "\n",
    "print(F(Alice @ loves @ Bob))\n",
    "print(F(grammar))\n",
    "\n",
    "assert F(Alice @ loves @ Bob >> grammar) == 1"
   ]
  },
  {
   "cell_type": "markdown",
   "metadata": {},
   "source": [
    "Since `F(sentence) == 1`, we conclude that the sentence is true, i.e. Alice loves Bob!\n",
    "\n",
    "If we evaluate the meaning of noun phrases rather than sentences, we get vectors that we can compare using inner products. This gives us a similarity measure between noun phrases. In our toy model, we can say that Alice and Bob are different: we defined their meaning to be orthogonal."
   ]
  },
  {
   "cell_type": "code",
   "execution_count": 43,
   "metadata": {},
   "outputs": [
    {
     "data": {
      "image/png": "[encoded data removed]",
      "text/plain": [
       "<Figure size 216x72 with 1 Axes>"
      ]
     },
     "metadata": {
      "needs_background": "light"
     },
     "output_type": "display_data"
    }
   ],
   "source": [
    "assert not F(Alice) >> F(Bob)[::-1]\n",
    "\n",
    "drawing.equation(Alice, Bob, symbol=\"$\\\\neq$\", figsize=(3, 1))"
   ]
  },
  {
   "cell_type": "markdown",
   "metadata": {},
   "source": [
    "Let's define some more words:\n",
    "\n",
    "* we map `man` to `[1, 0]`, i.e. Bob is the only man in our model,\n",
    "* we map the adjective `rich` of type `n @ n.l` to the projector `[[1, 0], [0, 0]]`, i.e. only Bob is rich."
   ]
  },
  {
   "cell_type": "code",
   "execution_count": 44,
   "metadata": {},
   "outputs": [
    {
     "data": {
      "image/png": "[encoded data removed]",
      "text/plain": [
       "<Figure size 360x72 with 1 Axes>"
      ]
     },
     "metadata": {
      "needs_background": "light"
     },
     "output_type": "display_data"
    }
   ],
   "source": [
    "rich, man = Word(\"rich\", n @ n.l), Word(\"man\", n)\n",
    "\n",
    "F.ar[rich], F.ar[man] = [1, 0, 0, 0], [1, 0]\n",
    "\n",
    "rich_man = rich @ man >> Id(n) @ Cup(n.l, n)\n",
    "\n",
    "assert F(Bob) >> F(rich_man)[::-1]  # i.e. Bob is a rich man.\n",
    "\n",
    "drawing.equation(Bob, rich_man, figsize=(5, 1))"
   ]
  },
  {
   "cell_type": "markdown",
   "metadata": {},
   "source": [
    "If we draw the diagram of a Who? question, the inner product with a noun phrase measures how well it answers the question."
   ]
  },
  {
   "cell_type": "code",
   "execution_count": 45,
   "metadata": {},
   "outputs": [
    {
     "data": {
      "image/png": "[encoded data removed]",
      "text/plain": [
       "<Figure size 432x144 with 1 Axes>"
      ]
     },
     "metadata": {
      "needs_background": "light"
     },
     "output_type": "display_data"
    }
   ],
   "source": [
    "q = Ty('q')\n",
    "\n",
    "Who = Word(\"Who\", q @ s.l @ n)\n",
    "\n",
    "F.ob[q], F.ar[Who] = 2, [1, 0, 0, 1]\n",
    "\n",
    "question = Who @ loves @ Bob\\\n",
    "    >> Id(q @ s.l) @ Cup(n, n.r) @ Id(s) @ Cup(n.l, n)\\\n",
    "    >> Id(q) @ Cup(s.l, s) \n",
    "\n",
    "answer = Alice\n",
    "\n",
    "assert F(question) == F(answer)\n",
    "\n",
    "drawing.equation(question, answer, figsize=(6, 2))"
   ]
  },
  {
   "cell_type": "markdown",
   "metadata": {},
   "source": [
    "**Exercise:** Draw your favorite sentence, define the meaning of each word then evaluate it as a tensor.\n",
    "\n",
    "**Exercise:** Build a toy model with a 4-dimensional noun space, add `Charlie` and `Diane` to the story.\n",
    "\n",
    "**Exercise:** Define the meaning of the word `Does` and draw the diagram for the yes-no question `Does Alice love Bob?`. The meaning of the question should be the same as the sentence `Alice loves Bob`, i.e. the answer is \"yes\" if the sentence is true."
   ]
  },
  {
   "cell_type": "markdown",
   "metadata": {},
   "source": [
    "## 5. Putting it all together: QNLP\n",
    "\n",
    "Let's recap what we've seen so far:\n",
    "\n",
    "1. Diagrams can represent any cooking recipe, functors translate recipes.\n",
    "2. Diagrams can represent any tensor network, tensor functors contract the network.\n",
    "3. Diagrams can represent any quantum circuit, tensor functors simulate the circuit.\n",
    "4. Diagrams can represent any grammatical sentence, tensor functors compute the meaning.\n",
    "\n",
    "Now we've got all the ingredients ready for some quantum natural language processing! Indeed, the key insight behind QNLP is that instead of computing a functor $F : \\mathbf{Grammar} \\to \\mathbf{Tensor}$ classically, we can split the computation into two steps $F = \\mathbf{Grammar} \\xrightarrow{F'} \\mathbf{Circuit} \\xrightarrow{\\mathrm{eval}} \\mathbf{Tensor}$: first we translate our grammatical structure into a quantum circuit, then we evaluate that quantum circuit to compute the meaning of the sentence."
   ]
  },
  {
   "cell_type": "code",
   "execution_count": 46,
   "metadata": {},
   "outputs": [
    {
     "data": {
      "image/png": "[encoded data removed]",
      "text/plain": [
       "<Figure size 432x432 with 1 Axes>"
      ]
     },
     "metadata": {
      "needs_background": "light"
     },
     "output_type": "display_data"
    }
   ],
   "source": [
    "from discopy.quantum import circuit, qubit, sqrt, X\n",
    "\n",
    "F_ = circuit.Functor(\n",
    "    ob={s: Ty(), n: qubit},\n",
    "    ar={Alice: Ket(0),\n",
    "        loves: sqrt(2) @ Ket(0, 0) >> H @ X >> CX,\n",
    "        Bob: Ket(1)})\n",
    "\n",
    "F_(sentence).draw(figsize=(6, 6))\n",
    "\n",
    "assert F_(sentence).eval() == F(sentence)"
   ]
  },
  {
   "cell_type": "markdown",
   "metadata": {},
   "source": [
    "Of course this is a toy example: we've picked by hand what the circuits for Alice, loves and Bob should be so that they fit our interpretation. In order to apply our QNLP model to the real world, we need to **learn** from data what the circuits should be. In practice, we pick a parametrised circuit for each type of word, an **ansatz**, we then tune the parameters so that they reproduce our data.\n",
    "\n",
    "**Reading:** Check out the [alice-loves-bob](https://discopy.readthedocs.io/en/main/notebooks/alice-loves-bob.html) notebook, where we use [jax](https://jax.readthedocs.io/) to simulate a toy QNLP model that learns the meaning of the verb \"loves\". In [bob-is-rich](https://discopy.readthedocs.io/en/main/notebooks/bob-is-rich.html), we show a slightly more complex example where the GHZ state is used to encode the meaning of relative pronouns.\n",
    "\n",
    "**Reading:** Check out the [qnlp-experiment](https://discopy.readthedocs.io/en/main/notebooks/qnlp-experiment.html) where we run these toy models on quantum hardware.\n",
    "\n",
    "**Exercise:** Run your own QNLP experiment on quantum hardware! There are multiple parameters that you can try to scale: the length of sentences, the size of the vocabulary, the number of qubits for the noun space.\n",
    "\n",
    "**Exercise:** Implement a [swap test](https://en.wikipedia.org/wiki/Swap_test) to compute whether \"Alice\" is an answer to \"Who loves Bob?\"."
   ]
  },
  {
   "cell_type": "markdown",
   "metadata": {},
   "source": [
    "## References\n",
    "\n",
    "* Coecke, B., Sadrzadeh, M., & Clark, S. (2010) _Mathematical foundations for a compositional distributional model of meaning._ [arXiv:1003.4394](https://arxiv.org/abs/1003.4394)\n",
    "* Zeng, W., & Coecke, B.  (2016) _Quantum algorithms for compositional natural language processing._ [arXiv:1608.01406](https://arxiv.org/abs/arXiv:1608.01406)\n",
    "* de Felice, G., Toumi, A., & Coecke, B. (2020) _DisCoPy: Monoidal Categories in Python._ [arXiv:2005.02975](https://arxiv.org/abs/2005.02975)\n",
    "* Meichanetzidis, K., Toumi, A., de Felice, G., & Coecke, B. (2020) _Grammar-Aware Question-Answering on Quantum Computers._ [arXiv:2012.03756](https://arxiv.org/abs/arXiv:2012.03756)\n",
    "* Meichanetzidis, K., Gogioso, S., De Felice, G., Chiappori, N., Toumi, A., & Coecke, B. (2020) _Quantum natural language processing on near-term quantum computers._ [arXiv:2005.04147](https://arxiv.org/abs/arXiv:2005.04147)"
   ]
  }
 ],
 "metadata": {
  "kernelspec": {
   "display_name": "Python 3",
   "language": "python",
   "name": "python3"
  },
  "language_info": {
   "codemirror_mode": {
    "name": "ipython",
    "version": 3
   },
   "file_extension": ".py",
   "mimetype": "text/x-python",
   "name": "python",
   "nbconvert_exporter": "python",
   "pygments_lexer": "ipython3",
   "version": "3.8.5"
  }
 },
 "nbformat": 4,
 "nbformat_minor": 4
}
