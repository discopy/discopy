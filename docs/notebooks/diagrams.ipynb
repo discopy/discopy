{
 "cells": [
  {
   "cell_type": "markdown",
   "id": "6cc249fb",
   "metadata": {},
   "source": [
    "# What is a diagram?\n",
    "\n",
    "[String diagrams](https://en.wikipedia.org/wiki/String_diagram), or **diagrams** in short, are a formal graphical language for representing the composition of **systems and processes**.\n",
    "Formally, a diagram is an arrow in a [free monoidal category](https://en.wikipedia.org/wiki/Monoidal_category#Free_strict_monoidal_category).\n",
    "This notebook spells out what this means in detail, and doing so it gives an overview of the architecture of DisCoPy."
   ]
  },
  {
   "cell_type": "markdown",
   "id": "f1a5dcc4",
   "metadata": {},
   "source": [
    "## Systems and processes\n",
    "\n",
    "### Categories\n",
    "\n",
    "Let us start at the bottom of DisCoPy's architecture: the module [discopy.cat](../_api/discopy.cat.rst) which implements [free categories](https://en.wikipedia.org/wiki/Free_category).\n",
    "First, a **category** $\\mathbf{C}$ is a class of systems $\\mathbf{C}_0$ and a class of processes $\\mathbf{C}_1$, also called **objects** and **arrows** such that:\n",
    "\n",
    "* each process $f : x \\to y \\in \\mathbf{C}_1$ comes with input and output systems $\\mathtt{dom}(f) = x \\in \\mathbf{C}_0$ and $\\mathtt{cod}(f) = y \\in \\mathbf{C}_0$, also called the **domain** and **codomain**,\n",
    "* each system $x \\in \\mathbf{C}_0$ comes with an **identity** process $1_x : x \\to x$,\n",
    "* processes are closed under **sequential composition**, i.e. there is a process $f g : x \\to z$ for each composable pair $f : x \\to y \\in \\mathbf{C}_1$ and $g : y \\to z$,\n",
    "* sequential composition is **associative**, i.e. $f (g h) = (f g) h$ whenever both sides are defined,\n",
    "* identity processes are the **unit** of sequential composition, i.e. $1_x f = f = f 1_y$.\n",
    "\n",
    "We call $\\mathbf{C}(x, y) = \\{ f \\in \\mathbf{C}_1 \\ \\vert \\ \\mathtt{dom}(f) = x, \\ \\mathtt{cod}(f) = y \\}$ the **homset** from $x$ to $y$ in $\\mathbf{C}$."
   ]
  },
  {
   "cell_type": "markdown",
   "id": "1cea260e",
   "metadata": {},
   "source": [
    "**Example:** We can define a category $\\mathbf{Pyth}$ with Python types as objects and Python functions as arrows.\n",
    "Since Python functions do not necessarily come with designated inputs and outputs, we need to add this information explicitly, this is what the module [discopy.python](../_api/discopy.python.rst) implements.\n",
    "\n",
    "**Example:** Given a class $\\mathbb{S}$ of numbers with addition and multiplication satisfying the axioms of a [rig](https://en.wikipedia.org/wiki/Rig_(mathematics)), we can define a category $\\mathbf{Mat}_\\mathbb{S}$ with natural numbers as objects, matrices with entries in $\\mathbb{S}$ as arrows, i.e. $\\mathbf{Mat}_\\mathbb{S}(m, n) = \\mathbb{S}^{m \\times n}$.\n",
    "Sequential composition is given by matrix multiplication with the identity matrix as unit.\n",
    "This is implemented in [discopy.matrix](../_api/discopy.matrix.rst)."
   ]
  },
  {
   "cell_type": "markdown",
   "id": "5533e946",
   "metadata": {},
   "source": [
    "Now a **free category** $\\mathbf{C}_G$ is one where the objects are nodes and the arrows are paths in a directed (multi) graph $G = (G_0, G_1, \\mathtt{dom}, \\mathtt{cod})$ which we call the **signature**.\n",
    "The sequential composition is given by concatenation of paths with the empty path as unit.\n",
    "The nodes $G_0$ are called generating objects, they are implemented by a class `Ob` with an attribute `name: str`.\n",
    "The edges $G_1$ are called generating arrows or **boxes**, they are implemented by a class `Box` with an attribute `name: str` and two attributes `dom: Ob` and `cod: Ob`."
   ]
  },
  {
   "cell_type": "code",
   "execution_count": 1,
   "id": "c21926c4",
   "metadata": {},
   "outputs": [],
   "source": [
    "from discopy.cat import Ob, Box\n",
    "\n",
    "x, y, z, w = [Ob(name) for name in \"xyzw\"]\n",
    "\n",
    "f = Box('f', x, y)\n",
    "g = Box('g', y, z)\n",
    "h = Box('h', z, w)"
   ]
  },
  {
   "cell_type": "markdown",
   "id": "578e62e2",
   "metadata": {},
   "source": [
    "Once we have defined objects and boxes, we can initialise an instance of the `Arrow` class by giving it a list of boxes `inside` and two objects `dom` and `cod`.\n",
    "The `Arrow` class comes with a method `id` for the identity and `then` for sequential composition, shortened to `>>`.\n",
    "In fact, we never need to initialise `Arrow` instances directly: we can construct every arrow in terms of identity and sequential composition."
   ]
  },
  {
   "cell_type": "code",
   "execution_count": 2,
   "id": "21ef3890",
   "metadata": {},
   "outputs": [],
   "source": [
    "from discopy.cat import Arrow\n",
    "\n",
    "arrow = Arrow(inside=(f, g, h), dom=x, cod=w)\n",
    "\n",
    "assert arrow == f >> g >> h == Arrow.id(x).then(f, g, h)"
   ]
  },
  {
   "cell_type": "markdown",
   "id": "f7d4e10d",
   "metadata": {},
   "source": [
    "**Remark:** DisCoPy uses `tuple` rather than `list` so that the boxes in an arrow are immutable.\n",
    "\n",
    "We can check that this satisfies the axioms of categories.\n",
    "Indeed, the unit and associativity of sequential composition come for free from that of Python tuples."
   ]
  },
  {
   "cell_type": "code",
   "execution_count": 3,
   "id": "ba080cf5",
   "metadata": {},
   "outputs": [],
   "source": [
    "assert f >> (g >> h) == (f >> g) >> h\n",
    "assert Arrow.id(f.dom) >> f == f == f >> Arrow.id(f.cod)"
   ]
  },
  {
   "cell_type": "markdown",
   "id": "aca78023",
   "metadata": {},
   "source": [
    "Note that in order for this last equation to make sense, we need `Box` to be a subclass of `Arrow`. This leads to an interesting circularity: a box is an arrow with the list of just itself inside."
   ]
  },
  {
   "cell_type": "code",
   "execution_count": 4,
   "id": "8a931169",
   "metadata": {},
   "outputs": [],
   "source": [
    "assert f.inside == (f, )"
   ]
  },
  {
   "cell_type": "markdown",
   "id": "ecd6f59d",
   "metadata": {},
   "source": [
    "As a running example, let us define a signature with cooking ingredients as objects and cooking steps as boxes.\n",
    "Then an arrow will be a recipe, i.e. a path in the graph of cooking.\n",
    "Here is a simple example of cooking `Recipe` as a subclass of `Arrow`."
   ]
  },
  {
   "cell_type": "code",
   "execution_count": 5,
   "id": "9330f39c",
   "metadata": {},
   "outputs": [],
   "source": [
    "from __future__ import annotations\n",
    "from discopy.cat import factory\n",
    "\n",
    "class Ingredient(Ob):\n",
    "    \"\"\" An ingredient is just an object. \"\"\"\n",
    "\n",
    "@factory\n",
    "class Recipe(Arrow):\n",
    "    \"\"\" A recipe is just an arrow. \"\"\"\n",
    "    inside: tuple[Step, ...]\n",
    "    dom: Ingredient\n",
    "    cod: Ingredient\n",
    "\n",
    "class Step(Box, Recipe):\n",
    "    \"\"\" A step is just a box in a recipe. \"\"\""
   ]
  },
  {
   "cell_type": "markdown",
   "id": "069c9c35",
   "metadata": {},
   "source": [
    "**Remark:** In order for the identity and the composition of recipes to return a recipe rather than an arrow, we use the [factory](../_api/discopy.cat.factory.rst) decorator."
   ]
  },
  {
   "cell_type": "code",
   "execution_count": 6,
   "id": "d898e512",
   "metadata": {},
   "outputs": [],
   "source": [
    "white = Ingredient('white')\n",
    "foam = Ingredient('foam')\n",
    "meringue = Ingredient('meringue')\n",
    "\n",
    "whisk = Step('whisk', white, foam)\n",
    "bake = Step('bake', foam, meringue)\n",
    "\n",
    "recipe = whisk >> bake\n",
    "\n",
    "assert isinstance(recipe, Recipe)"
   ]
  },
  {
   "cell_type": "markdown",
   "id": "f9ebd831",
   "metadata": {},
   "source": [
    "### Functors\n",
    "\n",
    "Category theory can be thought of as the mathematics of mathematics.\n",
    "We can make this meta mindset explicit if we define $\\mathbf{Cat}$, the **category of categories**.\n",
    "In order to avoid paradoxes, we say that the objects in $\\mathbf{Cat}_0$ are all the *small* categories and $\\mathbf{Cat}$ itself is *big* so that $\\mathbf{Cat} \\not\\in \\mathbf{Cat}_0$.\n",
    "\n",
    "The arrows $\\mathbf{Cat}_1$ between categories are called **functors**.\n",
    "A functor $F : \\mathbf{C} \\to \\mathbf{D}$ is a pair of maps $F_0 : \\mathbf{C}_0 \\to \\mathbf{D}_0$ from objects to objects and $F_1 : \\mathbf{C}_1 \\to \\mathbf{D}_1$ from arrows to arrows which respect the domain, codomain, identity and composition."
   ]
  },
  {
   "cell_type": "markdown",
   "id": "ff9c986e",
   "metadata": {},
   "source": [
    "**Example:** There is a functor $F : \\mathbf{Mat}_\\mathbb{S} \\to \\mathbf{Pyth}$ which sends a natural number $n$ to the type of $n$-dimensional vectors with entries in $\\mathbb{S}$ (assuming we can define this type in Python).\n",
    "It sends a matrix $f : m \\to n$ to the function which multiplies $m$-dimensional vectors by $f$ to get $n$-dimensional vectors.\n",
    "\n",
    "**Example:** The functors from $\\mathbf{Pyth}$ to itself can be thought of as data containers. For example, we can define a functor which sends every type `t` to `list[t]` and every function `f` to pointwise application `lambda xs: [f(x) for x in xs]`. Programming with functors is much more common in Haskell than in Python, see Milewski's [Programming Café](https://bartoszmilewski.com/2014/01/14/functors-are-containers/) for a wonderful introduction."
   ]
  },
  {
   "cell_type": "markdown",
   "id": "30464e66",
   "metadata": {},
   "source": [
    "We're now ready to spell out what it means for $\\mathbf{C}_G$ to be a free category.\n",
    "Signatures and arrows between them (i.e. [graph homomorphisms](https://en.wikipedia.org/wiki/Graph_homomorphism)) form a category $\\mathbf{Sig}$, which comes with a **forgetful functor** $\\mathbf{Cat} \\to \\mathbf{Sig}$: it sends a category $\\mathbf{D}$ to its underlying graph $U_\\mathbf{D}$ by forgetting the composition and identity.\n",
    "Going in the other direction, the **free functor** $\\mathbf{Sig} \\to \\mathbf{Cat}$ sends a signature to its free category.\n",
    "These two functors are related by an [adjunction](https://en.wikipedia.org/wiki/Adjoint_functors), i.e. a [natural isomorphism](https://en.wikipedia.org/wiki/Natural_transformation#natural_isomorphism):\n",
    "\n",
    "$$\\mathbf{Cat}(\\mathbf{C}_G, \\mathbf{D}) \\simeq \\mathbf{Sig}(G, U_\\mathbf{D})$$\n",
    "\n",
    "What this means in practice is that to define a functor $F : \\mathbf{C}_G \\to \\mathbf{D}$ from a free category, it is equivalent to define a homomorphism of signatures $F : G \\to U_\\mathbf{D}$, i.e. an interpretation for each generating object and box.\n",
    "This is implemented by the class `Functor`, which is initialised by a pair of maps `ob` from objects to objects and `ar` from boxes to arrows.\n",
    "Functors also have an optional `cod: Category`, i.e. a pair of classes for objects and arrows, `Ob` and `Arrow` by default.\n",
    "Note that the domain of a DisCoPy functor is implicit: it is the free category generated by the domain of its `ob` and `ar` maps."
   ]
  },
  {
   "cell_type": "markdown",
   "id": "5e680251",
   "metadata": {},
   "source": [
    "**Example:** We can define a functor $F : \\mathbf{C}_G \\to \\mathbf{C}_G$ which sends ingredients to their translation in French and cooking steps to more detailed recipes."
   ]
  },
  {
   "cell_type": "code",
   "execution_count": 7,
   "id": "03d861c0",
   "metadata": {},
   "outputs": [],
   "source": [
    "from discopy.cat import Category, Functor\n",
    "\n",
    "Cooking = Category(Ingredient, Recipe)\n",
    "\n",
    "blanc, mousse = Ingredient('blanc'), Ingredient('mousse')\n",
    "\n",
    "saler = Step('saler', blanc, blanc)\n",
    "battre = Step('battre', blanc, mousse)\n",
    "cuire = Step('cuire', mousse, meringue)\n",
    "refroidir = Step('refoidir', meringue, meringue)\n",
    "\n",
    "recette = saler >> battre >> cuire >> refroidir\n",
    "\n",
    "F = Functor(\n",
    "    ob={white: blanc, foam: mousse, meringue: meringue},\n",
    "    ar={whisk: saler >> battre, bake: cuire >> refroidir},\n",
    "    dom=Cooking, cod=Cooking)\n",
    "\n",
    "assert F(recipe) == recette"
   ]
  },
  {
   "cell_type": "markdown",
   "id": "a0b0ec08",
   "metadata": {},
   "source": [
    "We can check that functors respect the structure of categories. "
   ]
  },
  {
   "cell_type": "code",
   "execution_count": 8,
   "id": "b4c4a869",
   "metadata": {},
   "outputs": [],
   "source": [
    "assert F(recipe.dom) == F(recipe).dom\n",
    "assert F(recipe.cod) == F(recipe).cod\n",
    "assert F(Recipe.id(white)) == Recipe.id(F(white))\n",
    "assert F(whisk >> bake) == F(whisk) >> F(bake)"
   ]
  },
  {
   "cell_type": "markdown",
   "id": "e64ba159",
   "metadata": {},
   "source": [
    "**Example:** We can define a functor $F : \\mathbf{C}_G \\to \\mathbf{Pyth}$ which sends cooking recipes to string-valued functions. In this case, it is easier to use functions rather than dictionaries for the `ob` and `ar` mappings."
   ]
  },
  {
   "cell_type": "code",
   "execution_count": 9,
   "id": "b4128fd5",
   "metadata": {},
   "outputs": [],
   "source": [
    "from discopy import python\n",
    "\n",
    "Pyth = Category(python.Ty, python.Function)\n",
    "\n",
    "G = Functor(\n",
    "    ob=lambda _: str,\n",
    "    ar=lambda box: lambda x: box.name.removesuffix('e') + f'ed {x}',\n",
    "    dom=Cooking, cod=Pyth)\n",
    "\n",
    "assert G(recipe)(\"white\") == \"baked whisked white\""
   ]
  },
  {
   "cell_type": "markdown",
   "id": "adece02a",
   "metadata": {},
   "source": [
    "**Example:** We can define a functor $F : \\mathbf{C}_G \\to \\mathbf{Cat}$ which sends ingredients to categories and cooking steps to functors."
   ]
  },
  {
   "cell_type": "code",
   "execution_count": 10,
   "id": "2143cca4",
   "metadata": {},
   "outputs": [],
   "source": [
    "Cat = Category(Category, Functor)\n",
    "\n",
    "H = Functor(\n",
    "    ob={white: Cooking, foam: Cooking, meringue: Pyth},\n",
    "    ar={whisk: F, bake: G},\n",
    "    dom=Cooking, cod=Cat)\n",
    "\n",
    "assert H(whisk >> bake)(recipe)(\"white\")\\\n",
    "    == (F >> G)(recipe)(\"white\")"
   ]
  },
  {
   "cell_type": "markdown",
   "id": "c196ce31",
   "metadata": {},
   "source": [
    "**Example:** Going from cooking and general abstract nonsense (the nickname of category theory) to quantum computing, we can define the simulation of quantum circuits as a functor $\\mathtt{eval} : \\mathbf{Circ} \\to \\mathbf{Mat}_\\mathbb{C}$ where $\\mathbf{Circ}$ is a free category with quantum gates as boxes.\n",
    "This is a simplified version of the [discopy.quantum.circuit](../_api/discopy.quantum.circuit.rst) module."
   ]
  },
  {
   "cell_type": "code",
   "execution_count": 11,
   "id": "54edacee",
   "metadata": {},
   "outputs": [],
   "source": [
    "from discopy.matrix import Matrix\n",
    "\n",
    "Mat_C = Category(int, Matrix[complex])\n",
    "\n",
    "qubit = Ob(\"qubit\")\n",
    "\n",
    "@factory\n",
    "class Circuit(Arrow):\n",
    "    \"\"\" A Circuit is an Arrow with an eval method. \"\"\"\n",
    "    def eval(self):\n",
    "        F = Functor(\n",
    "            ob={qubit: 2},\n",
    "            ar=lambda box: box.array,\n",
    "            cod=Mat_C)\n",
    "        return F(self)\n",
    "\n",
    "class Gate(Box, Circuit):\n",
    "    \"\"\" A Gate is a Box with a name and an array. \"\"\"\n",
    "    def __init__(self, name, array, dom=qubit, cod=qubit):\n",
    "        self.array = array\n",
    "        Box.__init__(self, name, dom, cod)"
   ]
  },
  {
   "cell_type": "markdown",
   "id": "b6882ecb",
   "metadata": {},
   "source": [
    "We can use this simple simulator to check that the [Pauli gates](https://en.wikipedia.org/wiki/Quantum_logic_gate#Pauli_gates_(X,Y,Z)) are self-inverse."
   ]
  },
  {
   "cell_type": "code",
   "execution_count": 12,
   "id": "e9505a9d",
   "metadata": {},
   "outputs": [],
   "source": [
    "Id = Circuit.id(qubit)\n",
    "X = Gate('X', [0, 1, 1, 0])\n",
    "Y = Gate('Y', [0, -1j, 1j, 0])\n",
    "Z = Gate('Z', [1, 0, 0, -1])\n",
    "\n",
    "assert (X >> X).eval() == (Y >> Y).eval() == (Z >> Z).eval()\\\n",
    "    == Id.eval() == Matrix[complex].id(2)"
   ]
  },
  {
   "cell_type": "markdown",
   "id": "6e921f1c",
   "metadata": {},
   "source": [
    "Let us summarise what we've discussed so far:\n",
    "\n",
    "* A category is a collection of systems and processes with identity and sequential composition.\n",
    "* The free category is generated by a graph where the edges are called `Box`, it has `Ob` as systems and `Arrow` as processes.\n",
    "* A functor is a structure-preserving map between categories. A DisCoPy `Functor` goes from the free category to any codomain, it is uniquely defined by its image on `Ob` and `Box`.\n",
    "\n",
    "The main idea behind DisCoPy is to use arrows in free categories as data structures for representing processes at a high-level of abstraction.\n",
    "These arrows can be evaluated as concrete computation by applying functors.\n",
    "We can also simplify them using rewriting algorithms to optimise our cooking recipe or quantum circuit before we evaluate it."
   ]
  },
  {
   "cell_type": "markdown",
   "id": "ae1a48eb",
   "metadata": {},
   "source": [
    "### Dagger, sums and bubbles\n",
    "\n",
    "So far, the arrows we have defined have a rather limited expressivity: they can only represent sequential compositions of processes.\n",
    "The `Arrow` class implements three additional methods to extend the kinds of processes we can represent: `dagger`, `sum` and `bubble`.\n",
    "\n",
    "#### Dagger and slicing\n",
    "\n",
    "First, the dagger allows to encode **time reversal** of processes. Formally, a dagger category is a category $\\mathbf{C}$ equipped with an **identity-on-object contravariant involution** functor $(\\dagger) : \\mathbf{C} \\to \\mathbf{C}^{op}$.\n",
    "For example, the category $\\mathbf{Mat}_\\mathbb{C}$ of complex matrices has a dagger given by the conjugate transpose.\n",
    "Given a signature $G$, we can freely add a dagger to each box $G^\\dagger = G \\cup \\{ f^\\dagger : y \\to x \\ \\vert \\ f : x \\to y \\in G \\}$ and this generates the free dagger category $\\mathbf{C}_G^\\dagger$.\n",
    "This is implemented by an optional argument `Box.is_dagger: bool` and a method `Arrow.dagger`, shortened to the list-reversal operator `[::-1]`."
   ]
  },
  {
   "cell_type": "code",
   "execution_count": 13,
   "id": "534d16b1",
   "metadata": {},
   "outputs": [],
   "source": [
    "assert f[::-1].dom == f.cod\n",
    "assert f[::-1].cod == f.dom\n",
    "assert Arrow.id(x)[::-1] == Arrow.id(x)\n",
    "assert (f >> g)[::-1] == g[::-1] >> f[::-1]"
   ]
  },
  {
   "cell_type": "markdown",
   "id": "5673fa5b",
   "metadata": {},
   "source": [
    "**Remark:** The list-reversal operator `[::-1]` is a special case of **slicing**, which is very useful when implementing rewriting algorithms."
   ]
  },
  {
   "cell_type": "code",
   "execution_count": 14,
   "id": "a3a03867",
   "metadata": {},
   "outputs": [],
   "source": [
    "assert (f >> g >> h)[:1] == f\n",
    "assert (f >> g >> h)[1:] == g >> h\n",
    "assert (f >> g >> h)[3:2:-1].inside\\\n",
    "    == (f >> g >> h).inside[3:2:-1]"
   ]
  },
  {
   "cell_type": "markdown",
   "id": "72c0e6af",
   "metadata": {},
   "source": [
    "#### Sums and zeros\n",
    "\n",
    "In some categories, it makes sense to add two parallel arrows, i.e. with the same domain and codomain.\n",
    "This addition operation is usually required to distribute over the sequential composition and to have a unit called zero.\n",
    "These are called categories **enriched in monoids**, for example the category of matrices with element-wise addition.\n",
    "In the free monoid-enriched category, arrows are formal sums of parallel arrows.\n",
    "This is implemented by a class `Sum` with an attribute `terms: tuple[Arrow, ...]` and optional attributes `dom` and `cod`."
   ]
  },
  {
   "cell_type": "code",
   "execution_count": 15,
   "id": "0ce1dfb0",
   "metadata": {},
   "outputs": [],
   "source": [
    "from discopy.cat import Sum\n",
    "\n",
    "assert f + f + f == Sum(terms=(f, f, f))\n",
    "assert Arrow.zero(x, y) == Sum((), dom=x, cod=y)\n",
    "\n",
    "zero = Arrow.zero(x, y)\n",
    "f_, g_ = Box('f_', x, y), Box('g_', y, z)\n",
    "\n",
    "assert zero + f == f == f + zero\n",
    "assert (f + f_) >> g == (f >> g) + (f_ >> g)\n",
    "assert f >> (g + g_) == (f >> g) + (f >> g_)"
   ]
  },
  {
   "cell_type": "markdown",
   "id": "d15c3a72",
   "metadata": {},
   "source": [
    "#### Bubbles, gradients and cuts\n",
    "\n",
    "Sometimes we want to implement a process-valued operator which cannot be expressed in terms of sequential composition.\n",
    "For reasons that will become clear in the next section, we call such unary operators on homsets **bubbles**.\n",
    "The free category with bubbles can be defined by induction over the level of nesting, i.e. an $(n + 1)$-nested bubble is a box which takes an arrow with $n$-nested bubbles as argument.\n",
    "This is implemented by the class `Bubble`, a subclass of `Box` with an attribute `arg: Arrow` and optional arguments `dom` and `cod`.\n",
    "\n",
    "Examples include the exponential of square matrices (used e.g. in the [Schrödinger equation](https://en.wikipedia.org/wiki/Schr%C3%B6dinger_equation)) and the element-wise application of a non-linear operator (used e.g. as [activation function](https://en.wikipedia.org/wiki/Activation_function) in neural networks).\n",
    "Another example is the gradient of a parameterised matrix, check out the [diagrammatic differentiation](../notebooks/diag-diff.ipynb) notebook!\n",
    "\n",
    "Historically, bubbles first appeared in the [existential graphs](https://en.wikipedia.org/wiki/Existential_graph#Alpha) of C.S. Peirce, a diagrammatic axiomatisation of first-order logic where bubbles are called **cuts**, they allow to encode **negation**.\n",
    "Formulae are evaluated by applying a functor into the category of finite sets and binary relations, which is equivalent to Boolean matrices.\n",
    "For example, here is an implementation of **system alpha**, a notation for propositional logic where atoms are given by boxes $P : x \\to x$ and conjunction is given by sequential composition."
   ]
  },
  {
   "cell_type": "code",
   "execution_count": 16,
   "id": "22d6c6f5",
   "metadata": {},
   "outputs": [],
   "source": [
    "from discopy.cat import Bubble\n",
    "\n",
    "Mat_B = Category(int, Matrix[bool])\n",
    "\n",
    "@factory\n",
    "class Formula(Arrow):\n",
    "    \"\"\" A Formula is an Arrow with methods\n",
    "        for negation `~` and conjunction `&`. \"\"\"\n",
    "    def __invert__(self):\n",
    "        return Cut(self)\n",
    "    \n",
    "    def __and__(self, other):\n",
    "        return self >> other\n",
    "\n",
    "class Atom(Box, Formula):\n",
    "    \"\"\" An Atom is a Box in a Formula. \"\"\"\n",
    "    def __init__(self, name):\n",
    "        Box.__init__(self, name, x, x)\n",
    "\n",
    "class Cut(Bubble, Formula):\n",
    "    \"\"\" A Cut is a Bubble in a Formula. \"\"\"\n",
    "\n",
    "class Valuation(Functor):\n",
    "    \"\"\" A Valuation is a Functor into Boolean matrices\n",
    "        which sends x to 1 and Cut to pointwise negation. \"\"\"\n",
    "    def __init__(self, ar: dict[Atom, bool]):\n",
    "        super().__init__(ob={x: 1}, ar=ar, cod=Mat_B)\n",
    "\n",
    "    def __call__(self, other):\n",
    "        if isinstance(other, Cut):\n",
    "            return self(other.arg).map(lambda x: not x)\n",
    "        return super().__call__(other)"
   ]
  },
  {
   "cell_type": "markdown",
   "id": "beb7c0e4",
   "metadata": {},
   "source": [
    "Disjunction is given for free by the sum of arrows.\n",
    "Let's implement this with a subclass of `Sum` which we attach to `Formula` using the `sum_factory` attribute.\n",
    "We can then check that this indeed satisfies [De Morgan's laws](https://en.wikipedia.org/wiki/De_Morgan%27s_laws)."
   ]
  },
  {
   "cell_type": "code",
   "execution_count": 17,
   "id": "07e1b691",
   "metadata": {},
   "outputs": [],
   "source": [
    "class Disjunction(Sum, Formula):\n",
    "    \"\"\" A Disjunction is a Sum in a Formula. \"\"\"\n",
    "\n",
    "Formula.sum_factory = Disjunction\n",
    "Formula.__or__ = Formula.__add__\n",
    "\n",
    "P, Q = Atom('P'), Atom('Q')\n",
    "\n",
    "for p in [True, False]:\n",
    "    for q in [True, False]:\n",
    "        V = Valuation({P: p, Q: q})\n",
    "        assert V(~(P | Q)) == V(~P & ~Q)\n",
    "        assert V(~(P & Q)) == V(~P | ~Q)"
   ]
  },
  {
   "cell_type": "markdown",
   "id": "72f1879f",
   "metadata": {},
   "source": [
    "## A data structure for diagrams\n",
    "\n",
    "The main limitation of the [discopy.cat](../_api/discopy.cat.rst) module is that arrows can only have one input and one output.\n",
    "With [discopy.monoidal](../_api/discopy.monoidal.rst), we can implement processes where domain and codomain are lists of systems, together with a method for **parallel composition**.\n",
    "\n",
    "Formally, a (strict) **monoidal category** $\\mathbf{C}$ comes equipped with a two-argument functor called **tensor** $\\otimes : \\mathbf{C} \\times \\mathbf{C} \\to \\mathbf{C}$ which is associative with unit $1 \\in \\mathbf{C}$.\n",
    "A two-argument functor, also called a [bifunctor](https://en.wikipedia.org/wiki/Bifunctor), is simply a functor from a [product category](https://en.wikipedia.org/wiki/Product_category), i.e. where objects and arrows are pairs.\n",
    "The monoidal product is a generalisation of the [tensor product](https://en.wikipedia.org/wiki/Tensor_product) of linear maps and of the [Kronecker product](https://en.wikipedia.org/wiki/Kronecker_product) of matrices.\n",
    "Without loss of generality, we may assume that the objects of $\\mathbf{C}$ form a **free monoid** $\\mathbf{C}_0^\\star$, i.e. they are lists of elements from some set $\\mathbf{C}_0$ of generating objects.\n",
    "(If you want to be technical, this is called a [coloured PRO](https://ncatlab.org/nlab/show/PRO).)\n",
    "\n",
    "### Types and signatures\n",
    "\n",
    "What we call a **type** is such a list of generating objects, it is implemented by `Ty`, a subclass of `Ob` with an attribute `inside: tuple[Ob, ...]`.\n",
    "The default value is the empty tuple, i.e. the unit of the monoid.\n",
    "The method `tensor` returns the concatenation of two types, it is shortened to `@`.\n",
    "We can check that this indeed satisfies the axioms of a monoid."
   ]
  },
  {
   "cell_type": "code",
   "execution_count": 18,
   "id": "2c80630d",
   "metadata": {},
   "outputs": [],
   "source": [
    "from discopy.monoidal import Ty\n",
    "\n",
    "x, y, z = map(Ty, \"xyz\")\n",
    "\n",
    "assert x @ y @ z == Ty('x', 'y', 'z')\\\n",
    "    == Ty(Ob('x'), Ob('y'), Ob('z'))\n",
    "\n",
    "unit = Ty()\n",
    "\n",
    "assert unit @ x == x == x @ unit\n",
    "assert (x @ y) @ z == x @ (y @ z)"
   ]
  },
  {
   "cell_type": "markdown",
   "id": "55f032d3",
   "metadata": {},
   "source": [
    "Types can be indexed and sliced like Python strings, i.e."
   ]
  },
  {
   "cell_type": "code",
   "execution_count": 19,
   "id": "0bd5bc15",
   "metadata": {},
   "outputs": [],
   "source": [
    "assert x[0] == x and 'x'[0] == 'x'\n",
    "\n",
    "t = x @ y @ z\n",
    "\n",
    "assert t[:1] == t[:-2] == x\n",
    "assert t[1:] == t[-2:] == y @ z\n",
    "\n",
    "assert t[1:0:-1].inside == t.inside[1:0:-1]"
   ]
  },
  {
   "cell_type": "markdown",
   "id": "d7e46e04",
   "metadata": {},
   "source": [
    "Now a **monoidal signature** is a graph $G = (G_0, G_1, \\mathtt{dom}, \\mathtt{cod})$ where the edges have lists of nodes as source and target, i.e. with $\\mathtt{dom}, \\mathtt{cod} : G_1 \\to G_0^\\star$.\n",
    "Again, we call the nodes in $G_0$ objects and the edges in $G_1$ boxes, but now boxes have types (i.e. lists of objects) as domain and codomain.\n",
    "This is implemented by the class `monoidal.Box`, which comes with a method `draw` which now justifies its name: a `Box` is drawn as a box with its domain and codomain as input and output wires."
   ]
  },
  {
   "cell_type": "code",
   "execution_count": 20,
   "id": "d9a5dd36",
   "metadata": {},
   "outputs": [
    {
     "data": {
      "image/png": "[encoded data removed]",
      "text/plain": [
       "<Figure size 300x200 with 1 Axes>"
      ]
     },
     "metadata": {},
     "output_type": "display_data"
    }
   ],
   "source": [
    "from discopy.monoidal import Box\n",
    "\n",
    "box = Box('box', x @ x @ x, y @ z)\n",
    "\n",
    "box.draw(figsize=(3, 2))"
   ]
  },
  {
   "cell_type": "markdown",
   "id": "6a2136c6",
   "metadata": {},
   "source": [
    "Boxes with the empty list as domain and codomain are called a **states** and **effects** respectively.\n",
    "A **scalar** is both a state and an effect."
   ]
  },
  {
   "cell_type": "markdown",
   "id": "e44ce0d2",
   "metadata": {},
   "source": [
    "### Free monoidal categories\n",
    "\n",
    "We can finally get to our definition of diagrams: they are **arrows in a free monoidal category**.\n",
    "Let's spell this out.\n",
    "We have a category $\\mathbf{MonCat}$ with monoidal categories as objects and monoidal functors as arrows, i.e. functors which respect the tensor.\n",
    "Similarly, $\\mathbf{MonSig}$ is the category of monoidal signatures and homomorphisms between them.\n",
    "And again, we have a forgetful functor $U : \\mathbf{MonCat} \\to \\mathbf{MonSig}$.\n",
    "(This is where we need to assume our monoidal categories are in fact coloured PROs).\n",
    "We want to construct its left-adjoint, i.e. the functor $F : \\mathbf{MonSig} \\to \\mathbf{MonCat}$ which sends a monoidal signature $G$ to the free monoidal category $\\mathbf{C}_G$ with a natural isomorphism:\n",
    "\n",
    "$$\\mathbf{MonCat}(\\mathbf{C}_G, \\mathbf{D}) \\simeq \\mathbf{MonSig}(G, U_\\mathbf{D})$$\n",
    "\n",
    "If you know some abstract algebra, then you know the brute force way to implement such a beast.\n",
    "First, we give a recursive definition of all the string diagrams:\n",
    "\n",
    "* every box $f : x \\to y \\in G$ is also a diagram $f : x \\to y \\in \\mathbf{C}_G$,\n",
    "* for every type $x \\in G_0^\\star$, the **identity** $1_x : x \\to x$ is a diagram drawn as a bunch of parallel wires,\n",
    "* for every composable pair of diagrams $f : x \\to y$ and $g : y \\to z$, their **composition** $f g : x \\to z$ is a diagram drawn as vertical concatenation,\n",
    "* for every pair of diagrams $f : x \\to y$ and $f' : x' \\to y'$, their **tensor** $f \\otimes f' : xx' \\to yy'$ is diagram drawn as horizontal juxtaposition.\n",
    "\n",
    "Next, we realise that some diagrams appear multiple times, e.g. $f (g h)$ and $(f g) h$, so that we need to take a **quotient**, i.e. putting two formulae in the same **equivalence class** if they represent the same diagram.\n",
    "Again, this equivalence relation is defined recursively: if $f \\sim f'$ and $g \\sim g'$ then $(f g) \\sim (f' g')$ and $(f \\otimes g) \\sim (f' \\otimes g')$.\n",
    "The base case is given by the axioms of monoidal categories, namely:\n",
    "\n",
    "* **associativity**: $f (g h) \\sim (f g) h$ and $f \\otimes (f' \\otimes f'') \\sim (f \\otimes f') \\otimes f''$\n",
    "* **unit**: $(1_x f) \\sim f \\sim (f 1_y)$ and $(1 \\otimes f) \\sim f \\sim (f \\otimes 1)$\n",
    "* **interchange:** $(1_x \\otimes 1_y) \\sim 1_{xy}$ and $(f g) \\otimes (f' g') \\sim (f \\otimes f') (g \\otimes g')$\n",
    "\n",
    "### Layers and whiskering\n",
    "\n",
    "While the first two are straightforward, the third axiom corresponds to the tensor being a bifunctor: a) the tensor of identity is the identity of tensor and b) the tensor of a pair of compositions is the composition of a pair of tensors.\n",
    "This second part is the most challenging to implement.\n",
    "Indeed, remember how we got the associativity and unit of sequential composition to hold for free from that of Python tuples.\n",
    "We could try to play the same trick for the associativity and unit of parallel composition, but the interchange axiom forces these two types of tuples to distribute over one another.\n",
    "In fact, we can use interchange to write every diagram in **generic form**, i.e. as a composition of tensors.\n",
    "Furthermore, we can always write it so that every tensor expression contains exactly one box, e.g.\n",
    "\n",
    "$$f \\otimes f' = (f 1_y) \\otimes (1_{x'} f') = (f \\otimes 1_{x'}) (1_y \\otimes f')$$\n",
    "\n",
    "Such a tensor expression is called a **layer**, it takes the form $1_a \\otimes f \\otimes 1_b$ for some box $f$ in the middle and a pair of (possibly empty) types $a$ and $b$ on the left and right.\n",
    "This is implemented by `Layer`, a subclass of `cat.Box` with three attributes `left: Ty`, `box: monoidal.Box` and `right: Ty`."
   ]
  },
  {
   "cell_type": "code",
   "execution_count": 21,
   "id": "d25d5432",
   "metadata": {},
   "outputs": [
    {
     "data": {
      "image/png": "[encoded data removed]",
      "text/plain": [
       "<Figure size 400x200 with 1 Axes>"
      ]
     },
     "metadata": {},
     "output_type": "display_data"
    }
   ],
   "source": [
    "from discopy.monoidal import Layer\n",
    "\n",
    "a, b, c = map(Ty, \"abc\")\n",
    "\n",
    "layer = Layer(a, box, b)\n",
    "\n",
    "(a @ box @ b).draw(figsize=(4, 2))"
   ]
  },
  {
   "cell_type": "markdown",
   "id": "c5fe8d1f",
   "metadata": {},
   "source": [
    "We can tensor a layer by a type on its left or right, this is called **whiskering**."
   ]
  },
  {
   "cell_type": "code",
   "execution_count": 22,
   "id": "9b528c99",
   "metadata": {},
   "outputs": [],
   "source": [
    "assert layer @ c == Layer(a, box, b @ c)\n",
    "assert c @ layer == Layer(c @ a, box, b)"
   ]
  },
  {
   "cell_type": "markdown",
   "id": "9d89ed99",
   "metadata": {},
   "source": [
    "### Tensor and interchange\n",
    "\n",
    "We can finally get to the core data structure of DisCoPy: a `Diagram` is an arrow with a list of layers `inside: tuple[Layer, ...]` and a method `tensor` for parallel composition, again shortened to `@`.\n",
    "This is implemented in terms of whiskering using the previous formula:"
   ]
  },
  {
   "cell_type": "code",
   "execution_count": 23,
   "id": "e4af88de",
   "metadata": {},
   "outputs": [
    {
     "data": {
      "image/png": "[encoded data removed]",
      "text/plain": [
       "<Figure size 200x200 with 1 Axes>"
      ]
     },
     "metadata": {},
     "output_type": "display_data"
    }
   ],
   "source": [
    "from discopy.monoidal import Diagram\n",
    "\n",
    "x, y, x_, y_ = Ty('x'), Ty('y'), Ty('x_'), Ty('y_')\n",
    "\n",
    "f, f_ = Box('f', x, y), Box('f_', x_, y_)\n",
    "\n",
    "assert f @ f_ == f @ x_ >> y @ f_ == Diagram(\n",
    "    inside=(\n",
    "        Layer(Ty(), f, x_),\n",
    "        Layer(y, f_, Ty())),\n",
    "    dom=x @ x_,\n",
    "    cod=y @ y_)\n",
    "\n",
    "(f @ f_).draw(figsize=(2, 2))"
   ]
  },
  {
   "cell_type": "markdown",
   "id": "384518fd",
   "metadata": {},
   "source": [
    "In fact, the full list of layers is redundant.\n",
    "In order to characterise a diagram uniquely, it is enough to give its domain, the list of its boxes and the **offset** for each box, i.e. the number of wires to its left.\n",
    "The bijection between these two encodings is implemented by the methods `encode` and `decode`."
   ]
  },
  {
   "cell_type": "code",
   "execution_count": 24,
   "id": "fc23282e",
   "metadata": {},
   "outputs": [],
   "source": [
    "d = f @ f_\n",
    "\n",
    "assert d.boxes == [box for _, box, _ in d.inside]\n",
    "assert d.offsets == [len(left) for left, _, _ in d.inside]\n",
    "assert d.encode() == (d.dom, list(zip(d.boxes, d.offsets)))\\\n",
    "                  == (x @ x_, [(f, 0), (f_, 1)])\n",
    "assert Diagram.decode(x @ x_, [(f, 0), (f_, 1)]) == d"
   ]
  },
  {
   "cell_type": "markdown",
   "id": "029109e7",
   "metadata": {},
   "source": [
    "We can check that this satisfies all the axioms of monoidal categories for free..."
   ]
  },
  {
   "cell_type": "code",
   "execution_count": 25,
   "id": "e4d9b160",
   "metadata": {},
   "outputs": [
    {
     "data": {
      "image/png": "[encoded data removed]",
      "text/plain": [
       "<Figure size 600x400 with 1 Axes>"
      ]
     },
     "metadata": {},
     "output_type": "display_data"
    }
   ],
   "source": [
    "from discopy.drawing import Equation\n",
    "\n",
    "g, h = Box('g', y, z), Box('h', z, w)\n",
    "\n",
    "# Associativity\n",
    "assert (f >> g) >> h == f >> (g >> h)\n",
    "assert (f @  g) @  h == f @  (g @  h)\n",
    "\n",
    "Equation((f >> g) >> h, (f @  g) @  h, symbol=\"and\").draw(figsize=(6, 4))"
   ]
  },
  {
   "cell_type": "code",
   "execution_count": 26,
   "id": "4c20cd33",
   "metadata": {},
   "outputs": [
    {
     "data": {
      "image/png": "[encoded data removed]",
      "text/plain": [
       "<Figure size 100x200 with 1 Axes>"
      ]
     },
     "metadata": {},
     "output_type": "display_data"
    }
   ],
   "source": [
    "# Unit\n",
    "assert Diagram.id(x) >> f == f == f >> Diagram.id(y)\n",
    "assert Ty()          @  f == f == f @  Ty()\n",
    "\n",
    "f.draw(figsize=(1, 2))"
   ]
  },
  {
   "cell_type": "code",
   "execution_count": 27,
   "id": "9d579a1f",
   "metadata": {},
   "outputs": [
    {
     "data": {
      "image/png": "[encoded data removed]",
      "text/plain": [
       "<Figure size 100x100 with 1 Axes>"
      ]
     },
     "metadata": {},
     "output_type": "display_data"
    }
   ],
   "source": [
    "# Identity interchange\n",
    "assert Diagram.id(x) @ Diagram.id(y) == Diagram.id(x @ y)\n",
    "\n",
    "Diagram.id(x @ y).draw(figsize=(1, 1))"
   ]
  },
  {
   "cell_type": "markdown",
   "id": "ed25a9e3",
   "metadata": {},
   "source": [
    "...except the interchange of `@` and `>>`!"
   ]
  },
  {
   "cell_type": "code",
   "execution_count": 28,
   "id": "ef232921",
   "metadata": {},
   "outputs": [
    {
     "data": {
      "image/png": "[encoded data removed]",
      "text/plain": [
       "<Figure size 600x400 with 1 Axes>"
      ]
     },
     "metadata": {},
     "output_type": "display_data"
    }
   ],
   "source": [
    "z_ = Ty('z_')\n",
    "g_ = Box('g_', y_, z_)\n",
    "\n",
    "assert (f @ f_) >> (g @ g_)\\\n",
    "    == (f @ x_) >> (y @ f_) >> (g @ y_) >> (z @ g_)\\\n",
    "    != (f @ x_) >> (g @ x_) >> (z @ f_) >> (z @ g_)\\\n",
    "    == (f >> g) @ (f_ >> g_)\n",
    "\n",
    "Equation(\n",
    "    (f @ f_) >> (g @ g_),\n",
    "    (f >> g) @ (f_ >> g_),\n",
    "    symbol=\"$\\\\neq$\").draw(figsize=(6, 4))"
   ]
  },
  {
   "cell_type": "markdown",
   "id": "47c1a4d8",
   "metadata": {},
   "source": [
    "If we assume that there are no side effects, then these two diagrams should represent the same process.\n",
    "Indeed, the boxes `f_` and `g` are not connected so it should not matter which one we apply first: they happen in parallel.\n",
    "If we interpret the connection of wires in terms of causality between processes, then the interchange axiom corresponds to the notion of [spacelike separation](https://en.wikipedia.org/wiki/Spacetime#Relativity_of_simultaneity) in relativity theory.\n",
    "\n",
    "The equality of DisCoPy diagrams is implemented as the equality of Python tuples.\n",
    "Thus two diagrams that have a different list of layers `inside` cannot be equal on the nose.\n",
    "However, we can call the method `interchange` to rewrite between them.\n",
    "It takes two indices `i` and `j` and returns the diagram with `self.boxes[i]` and `self.boxes[j]` interchanged, or raises `AxiomError` if they are connected.\n",
    "This is what the general case looks like:"
   ]
  },
  {
   "cell_type": "code",
   "execution_count": 29,
   "id": "f9d29f7c",
   "metadata": {},
   "outputs": [
    {
     "data": {
      "image/png": "[encoded data removed]",
      "text/plain": [
       "<Figure size 1000x400 with 1 Axes>"
      ]
     },
     "metadata": {},
     "output_type": "display_data"
    }
   ],
   "source": [
    "a, b, c = map(Ty, \"abc\")\n",
    "\n",
    "above = Box('above', z, a @ x @ b @ x_ @ c)\n",
    "below = Box('below',    a @ y @ b @ y_ @ c, w)\n",
    "\n",
    "LHS = above >> a @ f @ b @ x_ @ c\\\n",
    "            >> a @ y @ b @ f_ @ c >> below\n",
    "\n",
    "RHS = above >> a @ x @ b @ f_ @ c\\\n",
    "            >> a @ f @ b @ y_ @ c >> below\n",
    "\n",
    "assert LHS.interchange(1, 2) == RHS\n",
    "assert RHS.interchange(1, 2) == LHS\n",
    "\n",
    "Equation(LHS, RHS, symbol=\"$\\\\sim$\").draw(figsize=(10, 4))"
   ]
  },
  {
   "cell_type": "markdown",
   "id": "23cd7de3",
   "metadata": {},
   "source": [
    "One special case of interest is when we interchange an effect and a state with nothing between them, i.e. `y == b == x_ == Ty()`.\n",
    "In this case there are two options which are controlled by an optional argument `left: bool`; the effect can end up on either side of the state, by default it goes to the right."
   ]
  },
  {
   "cell_type": "code",
   "execution_count": 30,
   "id": "b857d8ac",
   "metadata": {},
   "outputs": [
    {
     "data": {
      "image/png": "[encoded data removed]",
      "text/plain": [
       "<Figure size 1000x300 with 1 Axes>"
      ]
     },
     "metadata": {},
     "output_type": "display_data"
    }
   ],
   "source": [
    "effect = Box('effect', x, Ty())\n",
    "state = Box('state', Ty(), y)\n",
    "\n",
    "right_interchange = (effect >> state).interchange(0, 1)\n",
    "left_interchange = (effect >> state).interchange(0, 1, left=True)\n",
    "\n",
    "Equation(left_interchange, Equation(effect >> state, right_interchange,\n",
    "                  symbol='$\\\\longrightarrow$'), symbol='$\\\\longleftarrow$').draw(figsize=(10, 3))"
   ]
  },
  {
   "cell_type": "markdown",
   "id": "1b5b6252",
   "metadata": {},
   "source": [
    "### Normal form"
   ]
  },
  {
   "cell_type": "markdown",
   "id": "bc882f8f",
   "metadata": {},
   "source": [
    "We can also use the `normal_form` method which applies interchangers from the right to the left hand-side repeatedly, e.g."
   ]
  },
  {
   "cell_type": "code",
   "execution_count": 31,
   "id": "384ebcbb",
   "metadata": {},
   "outputs": [],
   "source": [
    "assert ((f @ f_) >> (g @ g_)).normal_form()\\\n",
    "    == ((f >> g) @ (f_ >> g_)).normal_form() == (f >> g) @ (f_ >> g_)"
   ]
  },
  {
   "cell_type": "markdown",
   "id": "71dc0224",
   "metadata": {},
   "source": [
    "This is guaranteed to terminate whenever the diagram is **boundary connected**, i.e. there is at most one connected component that is not connected to either the domain or the codomain.\n",
    "In the opposite case, the following [Eckmann-Hilton argument](https://en.wikipedia.org/wiki/Eckmann%E2%80%93Hilton_argument) creates cycles of interchanges between diagrams with two scalars."
   ]
  },
  {
   "cell_type": "code",
   "execution_count": 32,
   "id": "28f49c66",
   "metadata": {},
   "outputs": [
    {
     "data": {
      "image/png": "[encoded data removed]",
      "text/plain": [
       "<Figure size 600x200 with 1 Axes>"
      ]
     },
     "metadata": {},
     "output_type": "display_data"
    }
   ],
   "source": [
    "u, v = Box('u', Ty(), Ty()), Box('v', Ty(), Ty())\n",
    "\n",
    "assert u @ v == u >> v\n",
    "assert (u >> v).interchange(0, 1) == v >> u == v @ u\n",
    "assert (u >> v).interchange(0, 1).interchange(0, 1) == u >> v\n",
    "\n",
    "Equation(u @ v, v @ u, u @ v, symbol=\"$\\\\longrightarrow$\").draw(figsize=(6, 2))"
   ]
  },
  {
   "cell_type": "markdown",
   "id": "64e31568",
   "metadata": {},
   "source": [
    "In the worst-case, a boundary-connected diagram with $n$ boxes will take $O(n^3)$ interchanges to reach a normal form.\n",
    "For a proof of this theorem as well as the preceding one, we refer the reader to [Delpeuch and Vicary, LMCS 2022](https://lmcs.episciences.org/8960).\n",
    "An example of this worst-case is given by the following family of spiral-shaped diagrams:"
   ]
  },
  {
   "cell_type": "code",
   "execution_count": 33,
   "id": "8dae235d",
   "metadata": {},
   "outputs": [
    {
     "data": {
      "image/png": "[encoded data removed]",
      "text/plain": [
       "<Figure size 640x480 with 1 Axes>"
      ]
     },
     "metadata": {},
     "output_type": "display_data"
    },
    {
     "data": {
      "image/png": "[encoded data removed]",
      "text/plain": [
       "<Figure size 640x480 with 1 Axes>"
      ]
     },
     "metadata": {},
     "output_type": "display_data"
    },
    {
     "data": {
      "image/png": "[encoded data removed]",
      "text/plain": [
       "<Figure size 640x480 with 1 Axes>"
      ]
     },
     "metadata": {},
     "output_type": "display_data"
    }
   ],
   "source": [
    "from discopy.drawing import spiral\n",
    "\n",
    "for i in range(1, 4):\n",
    "    Equation(spiral(i), spiral(i).normal_form()).draw(draw_type_labels=False)"
   ]
  },
  {
   "cell_type": "markdown",
   "id": "e2a65063",
   "metadata": {},
   "source": [
    "We can iterate through the normalisation steps using the method `normalize` and visualise them as an animated picture using the method `to_gif`, e.g."
   ]
  },
  {
   "cell_type": "code",
   "execution_count": 34,
   "id": "bda5951a",
   "metadata": {},
   "outputs": [
    {
     "data": {
      "text/html": [
       "<img src=\"../_static/spiral.gif\">"
      ],
      "text/plain": [
       "<IPython.core.display.HTML object>"
      ]
     },
     "execution_count": 34,
     "metadata": {},
     "output_type": "execute_result"
    }
   ],
   "source": [
    "rewrite_steps = spiral(4).normalize()\n",
    "Diagram.to_gif(*rewrite_steps, path=\"../_static/spiral.gif\",\n",
    "               draw_type_labels=False, figsize=(4, 6), loop=True)"
   ]
  },
  {
   "cell_type": "markdown",
   "id": "3c620d3f",
   "metadata": {},
   "source": [
    "This tutorial is still work-in-progress, stay tuned for the second half!\n",
    "\n",
    "## Computing with functors\n",
    "\n",
    "## Snakes, braids and spiders"
   ]
  }
 ],
 "metadata": {
  "kernelspec": {
   "display_name": "Python 3",
   "language": "python",
   "name": "python3"
  },
  "language_info": {
   "codemirror_mode": {
    "name": "ipython",
    "version": 3
   },
   "file_extension": ".py",
   "mimetype": "text/x-python",
   "name": "python",
   "nbconvert_exporter": "python",
   "pygments_lexer": "ipython3",
   "version": "3.10.9"
  },
  "vscode": {
   "interpreter": {
    "hash": "7febd43b280ee848cebfa6c1ba9e91cdf187b22c5991f895e69e44ef6bcadeed"
   }
  }
 },
 "nbformat": 4,
 "nbformat_minor": 5
}
