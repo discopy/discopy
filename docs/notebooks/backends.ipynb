{
 "cells": [
  {
   "cell_type": "markdown",
   "metadata": {},
   "source": [
    "# Different backends"
   ]
  },
  {
   "cell_type": "code",
   "execution_count": 1,
   "metadata": {},
   "outputs": [
    {
     "name": "stdout",
     "output_type": "stream",
     "text": [
      "Vocabulary:\n",
      "Word('Alice', Ty('n'))\n",
      "Word('loves', Ty(Ob('n', z=1), 's', Ob('n', z=-1)))\n",
      "Word('Bob', Ty('n'))\n"
     ]
    }
   ],
   "source": [
    "from discopy import Ty, Word\n",
    "\n",
    "s, n = Ty('s'), Ty('n')\n",
    "Alice, loves, Bob = Word('Alice', n), Word('loves', n.r @ s @ n.l), Word('Bob', n)\n",
    "\n",
    "print(\"Vocabulary:\\n{}\".format('\\n'.join(map(repr, [Alice, loves, Bob]))))"
   ]
  },
  {
   "cell_type": "code",
   "execution_count": 2,
   "metadata": {},
   "outputs": [
    {
     "name": "stdout",
     "output_type": "stream",
     "text": [
      "Diagram for 'Alice loves Bob':\n"
     ]
    },
    {
     "data": {
      "image/png": "[encoded data removed]",
      "text/plain": [
       "<Figure size 432x288 with 1 Axes>"
      ]
     },
     "metadata": {
      "needs_background": "light"
     },
     "output_type": "display_data"
    }
   ],
   "source": [
    "from discopy import Diagram, Id, Cup\n",
    "from discopy.grammar import draw\n",
    "\n",
    "grammar = Cup(n, n.r) @ Id(s) @ Cup(n.l, n)\n",
    "parsing = {\"{} {} {}.\".format(subj, verb, obj): subj @ verb @ obj >> grammar\n",
    "            for subj in [Alice, Bob] for verb in [loves] for obj in [Alice, Bob]}\n",
    "\n",
    "diagram = parsing['Alice loves Bob.']\n",
    "print(\"Diagram for 'Alice loves Bob':\")\n",
    "draw(diagram, draw_type_labels=True)"
   ]
  },
  {
   "cell_type": "code",
   "execution_count": 3,
   "metadata": {},
   "outputs": [
    {
     "name": "stdout",
     "output_type": "stream",
     "text": [
      "Tensor(dom=Dim(1), cod=Dim(2, 2), array=[1.+0.j, 0.+0.j, 0.+0.j, 1.+0.j])\n"
     ]
    }
   ],
   "source": [
    "from discopy.quantum import Ket, H, Rx, CX, sqrt\n",
    "\n",
    "def verb_ansatz(phase):\n",
    "    return Ket(0, 0) >> H @ sqrt(2) @ Rx(phase) >> CX\n",
    "\n",
    "print(verb_ansatz(0).eval())"
   ]
  },
  {
   "cell_type": "code",
   "execution_count": 4,
   "metadata": {},
   "outputs": [
    {
     "name": "stdout",
     "output_type": "stream",
     "text": [
      "Circuit for 'Alice loves Bob':\n"
     ]
    },
    {
     "data": {
      "image/png": "[encoded data removed]",
      "text/plain": [
       "<Figure size 360x360 with 1 Axes>"
      ]
     },
     "metadata": {
      "needs_background": "light"
     },
     "output_type": "display_data"
    }
   ],
   "source": [
    "\n",
    "from discopy import CircuitFunctor, qubit\n",
    "\n",
    "ob = {s: 0, n: 1}\n",
    "ar = lambda params: {\n",
    "    Alice: Ket(0), Bob: Ket(1),\n",
    "    loves: verb_ansatz(params['loves'])}\n",
    "\n",
    "F = lambda params: CircuitFunctor(ob, ar(params))\n",
    "\n",
    "params0 = {'loves': 0.5}\n",
    "\n",
    "print(\"Circuit for 'Alice loves Bob':\")\n",
    "F(params0)(parsing['Alice loves Bob.']).draw(\n",
    "    aspect='auto', draw_type_labels=False, figsize=(5, 5))"
   ]
  },
  {
   "cell_type": "code",
   "execution_count": 5,
   "metadata": {},
   "outputs": [
    {
     "name": "stdout",
     "output_type": "stream",
     "text": [
      "Amplitude for 'Alice loves Bob':\n"
     ]
    },
    {
     "ename": "ValueError",
     "evalue": "Invalid backend: 'tensorflow'",
     "output_type": "error",
     "traceback": [
      "\u001b[0;31m---------------------------------------------------------------------------\u001b[0m",
      "\u001b[0;31mKeyError\u001b[0m                                  Traceback (most recent call last)",
      "File \u001b[0;32m~/Work/discopy/.venv/lib/python3.9/site-packages/discopy/tensor.py:126\u001b[0m, in \u001b[0;36mget_backend\u001b[0;34m(name)\u001b[0m\n\u001b[1;32m    <a href='file:///Users/thomas/Work/discopy/.venv/lib/python3.9/site-packages/discopy/tensor.py?line=124'>125</a>\u001b[0m \u001b[39mtry\u001b[39;00m:\n\u001b[0;32m--> <a href='file:///Users/thomas/Work/discopy/.venv/lib/python3.9/site-packages/discopy/tensor.py?line=125'>126</a>\u001b[0m     backend \u001b[39m=\u001b[39m BACKENDS[name]\n\u001b[1;32m    <a href='file:///Users/thomas/Work/discopy/.venv/lib/python3.9/site-packages/discopy/tensor.py?line=126'>127</a>\u001b[0m \u001b[39mexcept\u001b[39;00m \u001b[39mKeyError\u001b[39;00m:\n",
      "\u001b[0;31mKeyError\u001b[0m: 'tensorflow'",
      "\nDuring handling of the above exception, another exception occurred:\n",
      "\u001b[0;31mValueError\u001b[0m                                Traceback (most recent call last)",
      "\u001b[1;32m/Users/thomas/Work/discopy/docs/notebooks/backends.ipynb Cell 6'\u001b[0m in \u001b[0;36m<cell line: 4>\u001b[0;34m()\u001b[0m\n\u001b[1;32m      <a href='vscode-notebook-cell:/Users/thomas/Work/discopy/docs/notebooks/backends.ipynb#ch0000009?line=0'>1</a>\u001b[0m \u001b[39mfrom\u001b[39;00m \u001b[39mdiscopy\u001b[39;00m \u001b[39mimport\u001b[39;00m Tensor\n\u001b[1;32m      <a href='vscode-notebook-cell:/Users/thomas/Work/discopy/docs/notebooks/backends.ipynb#ch0000009?line=1'>2</a>\u001b[0m \u001b[39mprint\u001b[39m(\u001b[39m\"\u001b[39m\u001b[39mAmplitude for \u001b[39m\u001b[39m'\u001b[39m\u001b[39mAlice loves Bob\u001b[39m\u001b[39m'\u001b[39m\u001b[39m:\u001b[39m\u001b[39m\"\u001b[39m)\n\u001b[0;32m----> <a href='vscode-notebook-cell:/Users/thomas/Work/discopy/docs/notebooks/backends.ipynb#ch0000009?line=3'>4</a>\u001b[0m \u001b[39mwith\u001b[39;00m Tensor\u001b[39m.\u001b[39mbackend(\u001b[39m'\u001b[39m\u001b[39mtensorflow\u001b[39m\u001b[39m'\u001b[39m) \u001b[39mas\u001b[39;00m backend:\n\u001b[1;32m      <a href='vscode-notebook-cell:/Users/thomas/Work/discopy/docs/notebooks/backends.ipynb#ch0000009?line=4'>5</a>\u001b[0m     \u001b[39mprint\u001b[39m(F(params0)(parsing[\u001b[39m'\u001b[39m\u001b[39mAlice loves Bob.\u001b[39m\u001b[39m'\u001b[39m])\u001b[39m.\u001b[39meval())\n",
      "File \u001b[0;32m/opt/homebrew/Cellar/python@3.9/3.9.12/Frameworks/Python.framework/Versions/3.9/lib/python3.9/contextlib.py:119\u001b[0m, in \u001b[0;36m_GeneratorContextManager.__enter__\u001b[0;34m(self)\u001b[0m\n\u001b[1;32m    <a href='file:///opt/homebrew/Cellar/python%403.9/3.9.12/Frameworks/Python.framework/Versions/3.9/lib/python3.9/contextlib.py?line=116'>117</a>\u001b[0m \u001b[39mdel\u001b[39;00m \u001b[39mself\u001b[39m\u001b[39m.\u001b[39margs, \u001b[39mself\u001b[39m\u001b[39m.\u001b[39mkwds, \u001b[39mself\u001b[39m\u001b[39m.\u001b[39mfunc\n\u001b[1;32m    <a href='file:///opt/homebrew/Cellar/python%403.9/3.9.12/Frameworks/Python.framework/Versions/3.9/lib/python3.9/contextlib.py?line=117'>118</a>\u001b[0m \u001b[39mtry\u001b[39;00m:\n\u001b[0;32m--> <a href='file:///opt/homebrew/Cellar/python%403.9/3.9.12/Frameworks/Python.framework/Versions/3.9/lib/python3.9/contextlib.py?line=118'>119</a>\u001b[0m     \u001b[39mreturn\u001b[39;00m \u001b[39mnext\u001b[39;49m(\u001b[39mself\u001b[39;49m\u001b[39m.\u001b[39;49mgen)\n\u001b[1;32m    <a href='file:///opt/homebrew/Cellar/python%403.9/3.9.12/Frameworks/Python.framework/Versions/3.9/lib/python3.9/contextlib.py?line=119'>120</a>\u001b[0m \u001b[39mexcept\u001b[39;00m \u001b[39mStopIteration\u001b[39;00m:\n\u001b[1;32m    <a href='file:///opt/homebrew/Cellar/python%403.9/3.9.12/Frameworks/Python.framework/Versions/3.9/lib/python3.9/contextlib.py?line=120'>121</a>\u001b[0m     \u001b[39mraise\u001b[39;00m \u001b[39mRuntimeError\u001b[39;00m(\u001b[39m\"\u001b[39m\u001b[39mgenerator didn\u001b[39m\u001b[39m'\u001b[39m\u001b[39mt yield\u001b[39m\u001b[39m\"\u001b[39m) \u001b[39mfrom\u001b[39;00m \u001b[39mNone\u001b[39m\n",
      "File \u001b[0;32m~/Work/discopy/.venv/lib/python3.9/site-packages/discopy/tensor.py:196\u001b[0m, in \u001b[0;36mTensor.backend\u001b[0;34m(cls, value)\u001b[0m\n\u001b[1;32m    <a href='file:///Users/thomas/Work/discopy/.venv/lib/python3.9/site-packages/discopy/tensor.py?line=191'>192</a>\u001b[0m \u001b[39m@classmethod\u001b[39m\n\u001b[1;32m    <a href='file:///Users/thomas/Work/discopy/.venv/lib/python3.9/site-packages/discopy/tensor.py?line=192'>193</a>\u001b[0m \u001b[39m@contextmanager\u001b[39m\n\u001b[1;32m    <a href='file:///Users/thomas/Work/discopy/.venv/lib/python3.9/site-packages/discopy/tensor.py?line=193'>194</a>\u001b[0m \u001b[39mdef\u001b[39;00m \u001b[39mbackend\u001b[39m(\u001b[39mcls\u001b[39m, value):\n\u001b[1;32m    <a href='file:///Users/thomas/Work/discopy/.venv/lib/python3.9/site-packages/discopy/tensor.py?line=194'>195</a>\u001b[0m     \u001b[39mtry\u001b[39;00m:\n\u001b[0;32m--> <a href='file:///Users/thomas/Work/discopy/.venv/lib/python3.9/site-packages/discopy/tensor.py?line=195'>196</a>\u001b[0m         \u001b[39myield\u001b[39;00m \u001b[39mcls\u001b[39;49m\u001b[39m.\u001b[39;49mset_backend(value)\n\u001b[1;32m    <a href='file:///Users/thomas/Work/discopy/.venv/lib/python3.9/site-packages/discopy/tensor.py?line=196'>197</a>\u001b[0m     \u001b[39mfinally\u001b[39;00m:\n\u001b[1;32m    <a href='file:///Users/thomas/Work/discopy/.venv/lib/python3.9/site-packages/discopy/tensor.py?line=197'>198</a>\u001b[0m         \u001b[39mcls\u001b[39m\u001b[39m.\u001b[39m_backend_stack\u001b[39m.\u001b[39mpop()\n",
      "File \u001b[0;32m~/Work/discopy/.venv/lib/python3.9/site-packages/discopy/tensor.py:188\u001b[0m, in \u001b[0;36mTensor.set_backend\u001b[0;34m(cls, value)\u001b[0m\n\u001b[1;32m    <a href='file:///Users/thomas/Work/discopy/.venv/lib/python3.9/site-packages/discopy/tensor.py?line=185'>186</a>\u001b[0m \u001b[39m@classmethod\u001b[39m\n\u001b[1;32m    <a href='file:///Users/thomas/Work/discopy/.venv/lib/python3.9/site-packages/discopy/tensor.py?line=186'>187</a>\u001b[0m \u001b[39mdef\u001b[39;00m \u001b[39mset_backend\u001b[39m(\u001b[39mcls\u001b[39m, value):\n\u001b[0;32m--> <a href='file:///Users/thomas/Work/discopy/.venv/lib/python3.9/site-packages/discopy/tensor.py?line=187'>188</a>\u001b[0m     backend \u001b[39m=\u001b[39m get_backend(value)\n\u001b[1;32m    <a href='file:///Users/thomas/Work/discopy/.venv/lib/python3.9/site-packages/discopy/tensor.py?line=188'>189</a>\u001b[0m     \u001b[39mcls\u001b[39m\u001b[39m.\u001b[39m_backend_stack\u001b[39m.\u001b[39mappend(backend)\n\u001b[1;32m    <a href='file:///Users/thomas/Work/discopy/.venv/lib/python3.9/site-packages/discopy/tensor.py?line=189'>190</a>\u001b[0m     \u001b[39mreturn\u001b[39;00m backend\n",
      "File \u001b[0;32m~/Work/discopy/.venv/lib/python3.9/site-packages/discopy/tensor.py:128\u001b[0m, in \u001b[0;36mget_backend\u001b[0;34m(name)\u001b[0m\n\u001b[1;32m    <a href='file:///Users/thomas/Work/discopy/.venv/lib/python3.9/site-packages/discopy/tensor.py?line=125'>126</a>\u001b[0m     backend \u001b[39m=\u001b[39m BACKENDS[name]\n\u001b[1;32m    <a href='file:///Users/thomas/Work/discopy/.venv/lib/python3.9/site-packages/discopy/tensor.py?line=126'>127</a>\u001b[0m \u001b[39mexcept\u001b[39;00m \u001b[39mKeyError\u001b[39;00m:\n\u001b[0;32m--> <a href='file:///Users/thomas/Work/discopy/.venv/lib/python3.9/site-packages/discopy/tensor.py?line=127'>128</a>\u001b[0m     \u001b[39mraise\u001b[39;00m \u001b[39mValueError\u001b[39;00m(\u001b[39mf\u001b[39m\u001b[39m'\u001b[39m\u001b[39mInvalid backend: \u001b[39m\u001b[39m{\u001b[39;00mname\u001b[39m!r}\u001b[39;00m\u001b[39m'\u001b[39m)\n\u001b[1;32m    <a href='file:///Users/thomas/Work/discopy/.venv/lib/python3.9/site-packages/discopy/tensor.py?line=128'>129</a>\u001b[0m \u001b[39mtry\u001b[39;00m:\n\u001b[1;32m    <a href='file:///Users/thomas/Work/discopy/.venv/lib/python3.9/site-packages/discopy/tensor.py?line=129'>130</a>\u001b[0m     \u001b[39mreturn\u001b[39;00m INSTANTIATED_BACKENDS[backend]\n",
      "\u001b[0;31mValueError\u001b[0m: Invalid backend: 'tensorflow'"
     ]
    }
   ],
   "source": [
    "from discopy import Tensor\n",
    "print(\"Amplitude for 'Alice loves Bob':\")\n",
    "\n",
    "with Tensor.backend('tensorflow') as backend:\n",
    "    print(F(params0)(parsing['Alice loves Bob.']).eval())"
   ]
  },
  {
   "cell_type": "code",
   "execution_count": null,
   "metadata": {},
   "outputs": [
    {
     "data": {
      "text/plain": [
       "<contextlib._GeneratorContextManager at 0x103a8c610>"
      ]
     },
     "execution_count": 1,
     "metadata": {},
     "output_type": "execute_result"
    }
   ],
   "source": [
    "\n",
    "    "
   ]
  },
  {
   "cell_type": "code",
   "execution_count": null,
   "metadata": {},
   "outputs": [],
   "source": []
  }
 ],
 "metadata": {
  "interpreter": {
   "hash": "7d5477c5350017719fa20b104abdcf94c0c042db3b751c524e9b884382f6445f"
  },
  "kernelspec": {
   "display_name": "Python 3.9.12 ('.venv': venv)",
   "language": "python",
   "name": "python3"
  },
  "language_info": {
   "codemirror_mode": {
    "name": "ipython",
    "version": 3
   },
   "file_extension": ".py",
   "mimetype": "text/x-python",
   "name": "python",
   "nbconvert_exporter": "python",
   "pygments_lexer": "ipython3",
   "version": "3.9.12"
  },
  "orig_nbformat": 4
 },
 "nbformat": 4,
 "nbformat_minor": 2
}
