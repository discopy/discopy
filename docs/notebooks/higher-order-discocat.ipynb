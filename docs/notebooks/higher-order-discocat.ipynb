{
 "cells": [
  {
   "cell_type": "markdown",
   "metadata": {},
   "source": [
    "# Higher-Order DisCoCat\n",
    "\n",
    "### (Peirce-Lambek-Montague Semantics)\n",
    "\n",
    "[arXiv:2311.17813](https://arxiv.org/abs/2311.17813)\n",
    "\n",
    "## 1) Define Formula as a subclass of frobenius.Diagram"
   ]
  },
  {
   "cell_type": "code",
   "execution_count": null,
   "metadata": {},
   "outputs": [],
   "source": [
    "\n",
    "from discopy import frobenius\n",
    "from discopy.tensor import Dim, Tensor\n",
    "from discopy.cat import Category, factory\n",
    "\n",
    "@factory\n",
    "class Formula(frobenius.Diagram):\n",
    "    ty_factory = frobenius.PRO  # i.e. natural numbers as objects\n",
    "\n",
    "    def eval(self, size):\n",
    "        return frobenius.Functor(\n",
    "            ob=lambda _: Dim(size),\n",
    "            ar=lambda box: box.data,\n",
    "            cod=Category(Dim, Tensor[bool]))(self)\n",
    "\n",
    "class Cut(frobenius.Bubble, Formula): pass\n",
    "class Ligature(frobenius.Spider, Formula): pass\n",
    "class Predicate(frobenius.Box, Formula): pass\n",
    "\n",
    "Id, Formula.bubble_factory = Formula.id, Cut\n",
    "Tensor[bool].bubble = lambda self, **_: self.map(lambda x: not x)"
   ]
  },
  {
   "cell_type": "markdown",
   "metadata": {},
   "source": [
    "## 2) Parse natural language sentences using a categorial grammar"
   ]
  },
  {
   "cell_type": "code",
   "execution_count": null,
   "metadata": {},
   "outputs": [],
   "source": [
    "from discopy.grammar.categorial import Ty, Word, Eval\n",
    "\n",
    "n, p, s = Ty('n'), Ty('p'), Ty('s')  # noun, phrase and sentence\n",
    "\n",
    "Alice = Word(\"Alice\", p)\n",
    "big, sleeps = Word(\"big\", n << n), Word(\"sleeps\", p >> s)\n",
    "man, island = (Word(noun, n) for noun in (\"man\", \"island\"))\n",
    "kills, _is = (Word(verb, (p >> s) << p) for verb in (\"kills\", \"is\"))\n",
    "no, every, some = (Word(det, p << n) for det in (\"no\", \"every\", \"some\"))\n",
    "\n",
    "Alice_kills_a_mortal = (Alice @ kills @ some @ man\n",
    "    >> p @ ((p >> s) << p) @ Eval(p << n)\n",
    "    >> p @ Eval((p >> s) << p) >> Eval(p >> s))\n",
    "every_big_man_sleeps = (every @ big @ man @ sleeps\n",
    "    >> ((p << n) @ Eval(n << n) >> Eval(p << n))\n",
    "    @ (p >> s) >> Eval(p >> s))\n",
    "no_man_is_an_island = (no @ man @ _is @ some @ island\n",
    "    >> Eval(p << n) @ ((p >> s) << p) @ Eval(p << n)\n",
    "    >> p @ Eval((p >> s) << p) >> Eval(p >> s))"
   ]
  },
  {
   "cell_type": "code",
   "execution_count": null,
   "metadata": {},
   "outputs": [],
   "source": [
    "# Generating a random interpretation to test our model\n",
    "\n",
    "from random import choice\n",
    "\n",
    "size = 42\n",
    "random_bits = lambda n=size: [choice([True, False]) for _ in range(n)]\n",
    "\n",
    "is_killed_by = [random_bits() for _ in range(size)]\n",
    "unary_predicates = is_Alice, is_man, is_island, is_big, is_sleeping = [\n",
    "    random_bits() for _ in range(5)]\n",
    "\n",
    "K = Predicate(\"K\", 1, 1, data=is_killed_by)\n",
    "A, M, I, B, S = (Predicate(P, 0, 1, data)\n",
    "                 for P, data in zip(\"AMIBS\", unary_predicates))"
   ]
  },
  {
   "cell_type": "markdown",
   "metadata": {},
   "source": [
    "## 3) Higher-order DisCoCat as a closed functor into Python functions"
   ]
  },
  {
   "cell_type": "code",
   "execution_count": null,
   "metadata": {},
   "outputs": [],
   "source": [
    "\n",
    "from typing import Callable\n",
    "\n",
    "from discopy import closed\n",
    "from discopy.python import Function\n",
    "\n",
    "F = closed.Functor(\n",
    "    cod=Category(tuple[type, ...], Function),\n",
    "    ob={s: Formula, n: Formula, p: Callable[[Formula], Formula]},\n",
    "    ar={Alice: lambda: lambda f: A >> f,\n",
    "        sleeps: lambda: lambda P: P(S.dagger()),\n",
    "        man: lambda: M, island: lambda: I,\n",
    "        big: lambda: lambda f: f @ B >> Ligature(2, 1, frobenius.PRO(1)),\n",
    "        _is: lambda: lambda P: lambda Q: Q(P(Id(1)).dagger()),\n",
    "        kills: lambda: lambda P: lambda Q: Q(P(K).dagger()),\n",
    "        no: lambda: lambda state: lambda effect: (state >> effect).bubble(),\n",
    "        some: lambda: lambda state: lambda effect: state >> effect,\n",
    "        every: lambda: lambda state: lambda effect: (\n",
    "            state >> effect.bubble()).bubble()})\n",
    "\n",
    "evaluate = lambda sentence: bool(F(sentence)().eval(size))\n",
    "\n",
    "assert evaluate(Alice_kills_a_mortal) == any(\n",
    "    is_man[y] and is_killed_by[y][x] and is_Alice[x]\n",
    "    for x in range(size) for y in range(size))\n",
    "assert evaluate(every_big_man_sleeps) == all(\n",
    "    not (is_big[x] and is_man[x]) or is_sleeping[x] for x in range(size))\n",
    "assert evaluate(no_man_is_an_island) == all(\n",
    "    not is_man[x] or not is_island[x] for x in range(size))"
   ]
  }
 ],
 "metadata": {
  "language_info": {
   "name": "python"
  }
 },
 "nbformat": 4,
 "nbformat_minor": 2
}
